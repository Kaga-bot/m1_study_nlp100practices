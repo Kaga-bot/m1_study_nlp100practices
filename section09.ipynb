{
  "nbformat": 4,
  "nbformat_minor": 0,
  "metadata": {
    "colab": {
      "name": "section09.ipynb",
      "provenance": [],
      "authorship_tag": "ABX9TyO62hezzG+ovCVwoDG0oiVr",
      "include_colab_link": true
    },
    "kernelspec": {
      "name": "python3",
      "display_name": "Python 3"
    },
    "language_info": {
      "name": "python"
    }
  },
  "cells": [
    {
      "cell_type": "markdown",
      "metadata": {
        "id": "view-in-github",
        "colab_type": "text"
      },
      "source": [
        "<a href=\"https://colab.research.google.com/github/tktkbohshi/m1_study_nlp100practices/blob/main/section09.ipynb\" target=\"_parent\"><img src=\"https://colab.research.google.com/assets/colab-badge.svg\" alt=\"Open In Colab\"/></a>"
      ]
    },
    {
      "cell_type": "markdown",
      "metadata": {
        "id": "KxqBHybRYzq8"
      },
      "source": [
        "# 第1章 準備運動"
      ]
    },
    {
      "cell_type": "markdown",
      "metadata": {
        "id": "c5oD-TlFZCKV"
      },
      "source": [
        "## 00: 文字列の逆順  \n",
        "文字列”stressed”の文字を逆に（末尾から先頭に向かって）並べた文字列を得よ．"
      ]
    },
    {
      "cell_type": "code",
      "metadata": {
        "id": "TeyUHH3jY9vx"
      },
      "source": [
        ""
      ],
      "execution_count": null,
      "outputs": []
    }
  ]
}