{
  "nbformat": 4,
  "nbformat_minor": 0,
  "metadata": {
    "colab": {
      "name": "M1_NLP_100practices.ipynb",
      "provenance": [],
      "toc_visible": true,
      "authorship_tag": "ABX9TyN8PGXHCj4uKttGmRBJ9TzW",
      "include_colab_link": true
    },
    "kernelspec": {
      "name": "python3",
      "display_name": "Python 3"
    },
    "language_info": {
      "name": "python"
    }
  },
  "cells": [
    {
      "cell_type": "markdown",
      "metadata": {
        "id": "view-in-github",
        "colab_type": "text"
      },
      "source": [
        "<a href=\"https://colab.research.google.com/github/tktkbohshi/m1_study_nlp100practices/blob/main/M1_NLP_100practices.ipynb\" target=\"_parent\"><img src=\"https://colab.research.google.com/assets/colab-badge.svg\" alt=\"Open In Colab\"/></a>"
      ]
    },
    {
      "cell_type": "markdown",
      "metadata": {
        "id": "KxqBHybRYzq8"
      },
      "source": [
        "# 第1章 準備運動"
      ]
    },
    {
      "cell_type": "markdown",
      "metadata": {
        "id": "c5oD-TlFZCKV"
      },
      "source": [
        "## 00: 文字列の逆順  \n",
        "文字列”stressed”の文字を逆に（末尾から先頭に向かって）並べた文字列を得よ．"
      ]
    },
    {
      "cell_type": "code",
      "metadata": {
        "id": "TeyUHH3jY9vx"
      },
      "source": [
        ""
      ],
      "execution_count": null,
      "outputs": []
    },
    {
      "cell_type": "markdown",
      "metadata": {
        "id": "N8TC-WjfZLGL"
      },
      "source": [
        "# 第2章"
      ]
    },
    {
      "cell_type": "markdown",
      "metadata": {
        "id": "goeem4DPZWB5"
      },
      "source": [
        "# 第3章"
      ]
    },
    {
      "cell_type": "markdown",
      "metadata": {
        "id": "Yx0NFs1VZWQe"
      },
      "source": [
        "# 第4章"
      ]
    },
    {
      "cell_type": "markdown",
      "metadata": {
        "id": "zQW05lH9ZWZG"
      },
      "source": [
        "# 第5章"
      ]
    },
    {
      "cell_type": "markdown",
      "metadata": {
        "id": "OFHsQtCNZWf5"
      },
      "source": [
        "# 第6章"
      ]
    },
    {
      "cell_type": "markdown",
      "metadata": {
        "id": "f-jNl8fRZWmt"
      },
      "source": [
        "# 第7章"
      ]
    },
    {
      "cell_type": "markdown",
      "metadata": {
        "id": "LzLxN0QdZWtr"
      },
      "source": [
        "# 第8章"
      ]
    },
    {
      "cell_type": "markdown",
      "metadata": {
        "id": "U-ihtpHVZW14"
      },
      "source": [
        "# 第9章"
      ]
    },
    {
      "cell_type": "markdown",
      "metadata": {
        "id": "2XoHrzhsZW-1"
      },
      "source": [
        "# 第10章"
      ]
    },
    {
      "cell_type": "code",
      "metadata": {
        "id": "-_lnm0KxZi_0"
      },
      "source": [
        ""
      ],
      "execution_count": null,
      "outputs": []
    }
  ]
}