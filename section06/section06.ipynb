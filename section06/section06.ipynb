{
 "cells": [
  {
   "cell_type": "markdown",
   "source": [
    "<a href=\"https://colab.research.google.com/github/tktkbohshi/m1_study_nlp100practices/blob/main/M1_NLP_100practices.ipynb\" target=\"_parent\"><img src=\"https://colab.research.google.com/assets/colab-badge.svg\" alt=\"Open In Colab\"/></a>"
   ],
   "metadata": {}
  },
  {
   "cell_type": "markdown",
   "source": [
    "## Imports"
   ],
   "metadata": {}
  },
  {
   "cell_type": "code",
   "execution_count": 1,
   "source": [
    "import pandas as pd\r\n",
    "import numpy as np\r\n",
    "from tqdm import tqdm\r\n",
    "from sklearn.model_selection import train_test_split\r\n",
    "from sklearn.feature_extraction.text import TfidfVectorizer\r\n",
    "from sklearn.linear_model import LogisticRegression\r\n",
    "from sklearn.metrics import accuracy_score\r\n",
    "from sklearn.metrics import confusion_matrix\r\n",
    "from sklearn.metrics import precision_score, recall_score, f1_score\r\n",
    "from sklearn.svm import SVC\r\n",
    "import plotly.graph_objects as go\r\n",
    "import optuna"
   ],
   "outputs": [
    {
     "output_type": "stream",
     "name": "stderr",
     "text": [
      "C:\\Users\\tooka\\anaconda3\\lib\\site-packages\\numpy\\_distributor_init.py:30: UserWarning: loaded more than 1 DLL from .libs:\n",
      "C:\\Users\\tooka\\anaconda3\\lib\\site-packages\\numpy\\.libs\\libopenblas.NOIJJG62EMASZI6NYURL6JBKM4EVBGM7.gfortran-win_amd64.dll\n",
      "C:\\Users\\tooka\\anaconda3\\lib\\site-packages\\numpy\\.libs\\libopenblas.WCDJNK7YVMPZQ2ME2ZZHJJRJ3JIKNDB7.gfortran-win_amd64.dll\n",
      "  warnings.warn(\"loaded more than 1 DLL from .libs:\"\n"
     ]
    }
   ],
   "metadata": {}
  },
  {
   "cell_type": "markdown",
   "source": [
    "# 第6章: 機械学習\r\n",
    "本章では，Fabio Gasparetti氏が公開しているNews Aggregator Data Setを用い，ニュース記事の見出しを「ビジネス」「科学技術」「エンターテイメント」「健康」のカテゴリに分類するタスク（カテゴリ分類）に取り組む．"
   ],
   "metadata": {}
  },
  {
   "cell_type": "markdown",
   "source": [
    "## 50.データの入手・整形\r\n",
    "News Aggregator Data Setをダウンロードし、以下の要領で学習データ（train.txt），検証データ（valid.txt），評価データ（test.txt）を作成せよ．\r\n",
    "1. ダウンロードしたzipファイルを解凍し，readme.txtの説明を読む．\r\n",
    "1. 情報源（publisher）が”Reuters”, “Huffington Post”, “Businessweek”, “Contactmusic.com”, “Daily Mail”の事例（記事）のみを抽出する．\r\n",
    "1. 抽出された事例をランダムに並び替える．\r\n",
    "1. 抽出された事例の80%を学習データ，残りの10%ずつを検証データと評価データに分割し，それぞれtrain.txt，valid.txt，test.txtというファイル名で保存する．ファイルには，１行に１事例を書き出すこととし，カテゴリ名と記事見出しのタブ区切り形式とせよ（このファイルは後に問題70で再利用する）．\r\n",
    "学習データと評価データを作成したら，各カテゴリの事例数を確認せよ．"
   ],
   "metadata": {}
  },
  {
   "cell_type": "markdown",
   "source": [
    "### Datasets detail\r\n",
    "+ ID\t\tNumeric ID\r\n",
    "+ TITLE\t\tNews title \r\n",
    "+ URL\t\tUrl\r\n",
    "+ PUBLISHER\tPublisher name\r\n",
    "+ CATEGORY\tNews category (b = business, t = science and technology, e = entertainment, m = health)\r\n",
    "+ STORY\t\tAlphanumeric ID of the cluster that includes news about the same story\r\n",
    "+ HOSTNAME\tUrl hostname\r\n",
    "+ TIMESTAMP \tApproximate time the news was published, as the number of milliseconds since the epoch 00:00:00 GMT, January 1, 1970"
   ],
   "metadata": {}
  },
  {
   "cell_type": "code",
   "execution_count": 2,
   "source": [
    "columns = [\"ID\",\"TITLE\",\"URL\",\"PUBLISHER\",\"CATEGORY\",\"STORY\",\"HOSTNAME\",\"TIMESTAMP\"]\r\n",
    "df_publisher = pd.read_csv(\"./data/NewsAggregatorDataset/newsCorpora.csv\", names=columns, sep=\"\\t\")\r\n",
    "df_publisher = df_publisher[df_publisher[\"PUBLISHER\"].isin([\"Reuters\", \"Huffington Post\", \"Businessweek\", \"Contactmusic.com\", \"Daily Mail\"])]\r\n",
    "df_publisher = df_publisher.sample(frac=1).reset_index(drop=True)\r\n",
    "df_publisher[\"TITLE\"] = df_publisher[\"TITLE\"].str.lower()\r\n",
    "df_publisher.head(5)"
   ],
   "outputs": [
    {
     "output_type": "execute_result",
     "data": {
      "text/plain": [
       "       ID                                              TITLE  \\\n",
       "0    5258  trading firm virtu financial plans to raise up...   \n",
       "1  119643  us airways social media manager speaks out abo...   \n",
       "2  246861  afte being attached since 2006, director edgar...   \n",
       "3  281384                fda should fight products, not food   \n",
       "4  230619  lenovo aims to sell 100 mln smartphones, table...   \n",
       "\n",
       "                                                 URL         PUBLISHER  \\\n",
       "0  http://in.reuters.com/article/2014/03/11/virtu...           Reuters   \n",
       "1  http://www.dailymail.co.uk/news/article-260536...        Daily Mail   \n",
       "2  http://www.contactmusic.com/article/edgar-wrig...  Contactmusic.com   \n",
       "3  http://www.huffingtonpost.com/manuel-villacort...   Huffington Post   \n",
       "4  http://in.reuters.com/article/2014/05/21/idINB...           Reuters   \n",
       "\n",
       "  CATEGORY                          STORY                HOSTNAME  \\\n",
       "0        b  dHF--A9t5KnFT1MmUAIsHMMu25ZEM          in.reuters.com   \n",
       "1        e  dYvnirQ5sLRyjpMNgiKM0uOmgttPM     www.dailymail.co.uk   \n",
       "2        e  d8zMXjIiRYvwOUMgNFCJRWafcyqIM    www.contactmusic.com   \n",
       "3        m  dnjw8SrRqgK2WMMsKbV6Rb46rWZgM  www.huffingtonpost.com   \n",
       "4        b  dy4ACBFTk1JlJeME2GDvD5jerrUhM          in.reuters.com   \n",
       "\n",
       "       TIMESTAMP  \n",
       "0  1394580780148  \n",
       "1  1397593900286  \n",
       "2  1400935519181  \n",
       "3  1402690276802  \n",
       "4  1400684221435  "
      ],
      "text/html": [
       "<div>\n",
       "<style scoped>\n",
       "    .dataframe tbody tr th:only-of-type {\n",
       "        vertical-align: middle;\n",
       "    }\n",
       "\n",
       "    .dataframe tbody tr th {\n",
       "        vertical-align: top;\n",
       "    }\n",
       "\n",
       "    .dataframe thead th {\n",
       "        text-align: right;\n",
       "    }\n",
       "</style>\n",
       "<table border=\"1\" class=\"dataframe\">\n",
       "  <thead>\n",
       "    <tr style=\"text-align: right;\">\n",
       "      <th></th>\n",
       "      <th>ID</th>\n",
       "      <th>TITLE</th>\n",
       "      <th>URL</th>\n",
       "      <th>PUBLISHER</th>\n",
       "      <th>CATEGORY</th>\n",
       "      <th>STORY</th>\n",
       "      <th>HOSTNAME</th>\n",
       "      <th>TIMESTAMP</th>\n",
       "    </tr>\n",
       "  </thead>\n",
       "  <tbody>\n",
       "    <tr>\n",
       "      <th>0</th>\n",
       "      <td>5258</td>\n",
       "      <td>trading firm virtu financial plans to raise up...</td>\n",
       "      <td>http://in.reuters.com/article/2014/03/11/virtu...</td>\n",
       "      <td>Reuters</td>\n",
       "      <td>b</td>\n",
       "      <td>dHF--A9t5KnFT1MmUAIsHMMu25ZEM</td>\n",
       "      <td>in.reuters.com</td>\n",
       "      <td>1394580780148</td>\n",
       "    </tr>\n",
       "    <tr>\n",
       "      <th>1</th>\n",
       "      <td>119643</td>\n",
       "      <td>us airways social media manager speaks out abo...</td>\n",
       "      <td>http://www.dailymail.co.uk/news/article-260536...</td>\n",
       "      <td>Daily Mail</td>\n",
       "      <td>e</td>\n",
       "      <td>dYvnirQ5sLRyjpMNgiKM0uOmgttPM</td>\n",
       "      <td>www.dailymail.co.uk</td>\n",
       "      <td>1397593900286</td>\n",
       "    </tr>\n",
       "    <tr>\n",
       "      <th>2</th>\n",
       "      <td>246861</td>\n",
       "      <td>afte being attached since 2006, director edgar...</td>\n",
       "      <td>http://www.contactmusic.com/article/edgar-wrig...</td>\n",
       "      <td>Contactmusic.com</td>\n",
       "      <td>e</td>\n",
       "      <td>d8zMXjIiRYvwOUMgNFCJRWafcyqIM</td>\n",
       "      <td>www.contactmusic.com</td>\n",
       "      <td>1400935519181</td>\n",
       "    </tr>\n",
       "    <tr>\n",
       "      <th>3</th>\n",
       "      <td>281384</td>\n",
       "      <td>fda should fight products, not food</td>\n",
       "      <td>http://www.huffingtonpost.com/manuel-villacort...</td>\n",
       "      <td>Huffington Post</td>\n",
       "      <td>m</td>\n",
       "      <td>dnjw8SrRqgK2WMMsKbV6Rb46rWZgM</td>\n",
       "      <td>www.huffingtonpost.com</td>\n",
       "      <td>1402690276802</td>\n",
       "    </tr>\n",
       "    <tr>\n",
       "      <th>4</th>\n",
       "      <td>230619</td>\n",
       "      <td>lenovo aims to sell 100 mln smartphones, table...</td>\n",
       "      <td>http://in.reuters.com/article/2014/05/21/idINB...</td>\n",
       "      <td>Reuters</td>\n",
       "      <td>b</td>\n",
       "      <td>dy4ACBFTk1JlJeME2GDvD5jerrUhM</td>\n",
       "      <td>in.reuters.com</td>\n",
       "      <td>1400684221435</td>\n",
       "    </tr>\n",
       "  </tbody>\n",
       "</table>\n",
       "</div>"
      ]
     },
     "metadata": {},
     "execution_count": 2
    }
   ],
   "metadata": {}
  },
  {
   "cell_type": "code",
   "execution_count": 3,
   "source": [
    "df_train = df_publisher[0:int(len(df_publisher)*0.8)]\r\n",
    "df_valid = df_publisher[int(len(df_publisher)*0.8):int(len(df_publisher)*0.9)]\r\n",
    "df_test = df_publisher[int(len(df_publisher)*0.9):int(len(df_publisher))]\r\n",
    "df_train.to_csv(\"./data/outputs/train.txt\",sep=\"\\t\", index=False)\r\n",
    "df_valid.to_csv(\"./data/outputs/valid.txt\",sep=\"\\t\", index=False)\r\n",
    "df_test.to_csv(\"./data/outputs/test.txt\",sep=\"\\t\", index=False)"
   ],
   "outputs": [],
   "metadata": {}
  },
  {
   "cell_type": "markdown",
   "source": [
    "## 51.特徴量抽出\r\n",
    "学習データ，検証データ，評価データから特徴量を抽出し，それぞれtrain.feature.txt，valid.feature.txt，test.feature.txtというファイル名で保存せよ．\r\n",
    "なお，カテゴリ分類に有用そうな特徴量は各自で自由に設計せよ．記事の見出しを単語列に変換したものが最低限のベースラインとなるであろう．"
   ],
   "metadata": {}
  },
  {
   "cell_type": "markdown",
   "source": [
    "tf-idf = tf*idf = 単語の出現頻度*各単語のレア度\r\n",
    "\r\n",
    "$tf=\\frac{文書Aにおける単語Xの出現頻度}{文書Aにおける全単語の出現頻度の和}$\r\n",
    "\r\n",
    "$idf=log(\\frac{全文書数}{単語Xを含む文書数})$\r\n",
    "\r\n"
   ],
   "metadata": {}
  },
  {
   "cell_type": "code",
   "execution_count": 4,
   "source": [
    "tfidf_vec = TfidfVectorizer()\r\n",
    "X_train = tfidf_vec.fit_transform(df_train[\"TITLE\"])\r\n",
    "X_test = tfidf_vec.transform(df_test[\"TITLE\"])\r\n",
    "X_valid = tfidf_vec.transform(df_valid[\"TITLE\"])"
   ],
   "outputs": [],
   "metadata": {}
  },
  {
   "cell_type": "code",
   "execution_count": 11,
   "source": [
    "pd.DataFrame(X_train).to_csv(\"./data/outputs/train.feature.txt\")\r\n",
    "pd.DataFrame(X_test).to_csv(\"./data/outputs/test.feature.txt\")\r\n",
    "pd.DataFrame(X_valid).to_csv(\"./data/outputs/valid.feature.txt\")"
   ],
   "outputs": [],
   "metadata": {}
  },
  {
   "cell_type": "markdown",
   "source": [
    "## 52.学習\r\n",
    "51で構築した学習データを用いて，ロジスティック回帰モデルを学習せよ．"
   ],
   "metadata": {}
  },
  {
   "cell_type": "code",
   "execution_count": 207,
   "source": [
    "model = LogisticRegression(random_state=123, max_iter=10000)\r\n",
    "model.fit(X_train, df_train[\"CATEGORY\"])"
   ],
   "outputs": [
    {
     "output_type": "execute_result",
     "data": {
      "text/plain": [
       "LogisticRegression(max_iter=10000, random_state=123)"
      ]
     },
     "metadata": {},
     "execution_count": 207
    }
   ],
   "metadata": {}
  },
  {
   "cell_type": "markdown",
   "source": [
    "## 53.予測\r\n",
    "52で学習したロジスティック回帰モデルを用い，与えられた記事見出しからカテゴリとその予測確率を計算するプログラムを実装せよ．"
   ],
   "metadata": {}
  },
  {
   "cell_type": "code",
   "execution_count": 208,
   "source": [
    "pred_train = model.predict(X_train)\r\n",
    "pred_test = model.predict(X_test)"
   ],
   "outputs": [],
   "metadata": {}
  },
  {
   "cell_type": "markdown",
   "source": [
    "## 54.正解率の計測\r\n",
    "52で学習したロジスティック回帰モデルの正解率を，学習データおよび評価データ上で計測せよ．"
   ],
   "metadata": {}
  },
  {
   "cell_type": "markdown",
   "source": [
    "(TP+TN)/(TP+TN+FP+FN)"
   ],
   "metadata": {}
  },
  {
   "cell_type": "code",
   "execution_count": 209,
   "source": [
    "accuracy_train = accuracy_score(df_train[\"CATEGORY\"], pred_train)\r\n",
    "accuracy_test = accuracy_score(df_test[\"CATEGORY\"], pred_test)\r\n",
    "accuracy_train, accuracy_test"
   ],
   "outputs": [
    {
     "output_type": "execute_result",
     "data": {
      "text/plain": [
       "(0.9468703148425787, 0.8958020989505248)"
      ]
     },
     "metadata": {},
     "execution_count": 209
    }
   ],
   "metadata": {}
  },
  {
   "cell_type": "markdown",
   "source": [
    "## 55.混同行列の作成\r\n",
    "52で学習したロジスティック回帰モデルの混同行列（confusion matrix）を，学習データおよび評価データ上で作成せよ．"
   ],
   "metadata": {}
  },
  {
   "cell_type": "code",
   "execution_count": 210,
   "source": [
    "labels = df_train[\"CATEGORY\"].unique()\r\n",
    "labels"
   ],
   "outputs": [
    {
     "output_type": "execute_result",
     "data": {
      "text/plain": [
       "array(['b', 'm', 'e', 't'], dtype=object)"
      ]
     },
     "metadata": {},
     "execution_count": 210
    }
   ],
   "metadata": {}
  },
  {
   "cell_type": "markdown",
   "source": [
    "column = Predicted \r\n",
    "\r\n",
    "index = Actual\r\n"
   ],
   "metadata": {}
  },
  {
   "cell_type": "code",
   "execution_count": 211,
   "source": [
    "confusion_matrix(df_train[\"CATEGORY\"], pred_train)"
   ],
   "outputs": [
    {
     "output_type": "execute_result",
     "data": {
      "text/plain": [
       "array([[4416,   58,    4,   34],\n",
       "       [  16, 4157,    0,    4],\n",
       "       [  77,  116,  534,    3],\n",
       "       [ 144,  110,    1,  998]], dtype=int64)"
      ]
     },
     "metadata": {},
     "execution_count": 211
    }
   ],
   "metadata": {}
  },
  {
   "cell_type": "markdown",
   "source": [
    "2*(Precision*Recall)/(Precision+Recall)"
   ],
   "metadata": {}
  },
  {
   "cell_type": "markdown",
   "source": [
    "## 56.適合率，再現率，F1スコアの計測\r\n",
    "52で学習したロジスティック回帰モデルの適合率，再現率，F1スコアを，評価データ上で計測せよ．カテゴリごとに適合率，再現率，F1スコアを求め，カテゴリごとの性能をマイクロ平均（micro-average）とマクロ平均（macro-average）で統合せよ．"
   ],
   "metadata": {}
  },
  {
   "cell_type": "markdown",
   "source": [
    "TP/(TP+FP)"
   ],
   "metadata": {}
  },
  {
   "cell_type": "code",
   "execution_count": 212,
   "source": [
    "precision = precision_score(df_test[\"CATEGORY\"], pred_test, average=None, labels=labels)\r\n",
    "precision"
   ],
   "outputs": [
    {
     "output_type": "execute_result",
     "data": {
      "text/plain": [
       "array([0.90940767, 0.95555556, 0.88529887, 0.85416667])"
      ]
     },
     "metadata": {},
     "execution_count": 212
    }
   ],
   "metadata": {}
  },
  {
   "cell_type": "markdown",
   "source": [
    "TP/(TP/FN)"
   ],
   "metadata": {}
  },
  {
   "cell_type": "code",
   "execution_count": 213,
   "source": [
    "recall = recall_score(df_test[\"CATEGORY\"], pred_test, average=None, labels=labels)\r\n",
    "recall"
   ],
   "outputs": [
    {
     "output_type": "execute_result",
     "data": {
      "text/plain": [
       "array([0.93214286, 0.5       , 0.97857143, 0.640625  ])"
      ]
     },
     "metadata": {},
     "execution_count": 213
    }
   ],
   "metadata": {}
  },
  {
   "cell_type": "code",
   "execution_count": 214,
   "source": [
    "f1 = f1_score(df_test[\"CATEGORY\"], pred_test, average=None, labels=labels)\r\n",
    "f1"
   ],
   "outputs": [
    {
     "output_type": "execute_result",
     "data": {
      "text/plain": [
       "array([0.92063492, 0.65648855, 0.92960136, 0.73214286])"
      ]
     },
     "metadata": {},
     "execution_count": 214
    }
   ],
   "metadata": {}
  },
  {
   "cell_type": "markdown",
   "source": [
    "- マクロ平均は各クラスごとに指標を算出してから平均をとる\r\n",
    "- マイクロ平均は全クラスでいっせいに指標を計算する"
   ],
   "metadata": {}
  },
  {
   "cell_type": "code",
   "execution_count": 215,
   "source": [
    "df_eval = pd.DataFrame({\"Precision\":precision,\"Recall\":recall,\"F1\":f1},index=labels)\r\n",
    "df_eval.loc[\"マイクロ平均\"] = [\r\n",
    "    precision_score(df_test[\"CATEGORY\"], pred_test, average=\"micro\", labels=labels),\r\n",
    "    recall_score(df_test[\"CATEGORY\"], pred_test, average=\"micro\", labels=labels),\r\n",
    "    f1_score(df_test[\"CATEGORY\"], pred_test, average=\"micro\", labels=labels)\r\n",
    "    ]\r\n",
    "df_eval.loc[\"マクロ平均\"] = [\r\n",
    "    precision_score(df_test[\"CATEGORY\"], pred_test, average=\"macro\", labels=labels),\r\n",
    "    recall_score(df_test[\"CATEGORY\"], pred_test, average=\"macro\", labels=labels),\r\n",
    "    f1_score(df_test[\"CATEGORY\"], pred_test, average=\"macro\", labels=labels)\r\n",
    "    ]\r\n",
    "df_eval"
   ],
   "outputs": [
    {
     "output_type": "execute_result",
     "data": {
      "text/plain": [
       "        Precision    Recall        F1\n",
       "b        0.909408  0.932143  0.920635\n",
       "m        0.955556  0.500000  0.656489\n",
       "e        0.885299  0.978571  0.929601\n",
       "t        0.854167  0.640625  0.732143\n",
       "マイクロ平均   0.895802  0.895802  0.895802\n",
       "マクロ平均    0.901107  0.762835  0.809717"
      ],
      "text/html": [
       "<div>\n",
       "<style scoped>\n",
       "    .dataframe tbody tr th:only-of-type {\n",
       "        vertical-align: middle;\n",
       "    }\n",
       "\n",
       "    .dataframe tbody tr th {\n",
       "        vertical-align: top;\n",
       "    }\n",
       "\n",
       "    .dataframe thead th {\n",
       "        text-align: right;\n",
       "    }\n",
       "</style>\n",
       "<table border=\"1\" class=\"dataframe\">\n",
       "  <thead>\n",
       "    <tr style=\"text-align: right;\">\n",
       "      <th></th>\n",
       "      <th>Precision</th>\n",
       "      <th>Recall</th>\n",
       "      <th>F1</th>\n",
       "    </tr>\n",
       "  </thead>\n",
       "  <tbody>\n",
       "    <tr>\n",
       "      <th>b</th>\n",
       "      <td>0.909408</td>\n",
       "      <td>0.932143</td>\n",
       "      <td>0.920635</td>\n",
       "    </tr>\n",
       "    <tr>\n",
       "      <th>m</th>\n",
       "      <td>0.955556</td>\n",
       "      <td>0.500000</td>\n",
       "      <td>0.656489</td>\n",
       "    </tr>\n",
       "    <tr>\n",
       "      <th>e</th>\n",
       "      <td>0.885299</td>\n",
       "      <td>0.978571</td>\n",
       "      <td>0.929601</td>\n",
       "    </tr>\n",
       "    <tr>\n",
       "      <th>t</th>\n",
       "      <td>0.854167</td>\n",
       "      <td>0.640625</td>\n",
       "      <td>0.732143</td>\n",
       "    </tr>\n",
       "    <tr>\n",
       "      <th>マイクロ平均</th>\n",
       "      <td>0.895802</td>\n",
       "      <td>0.895802</td>\n",
       "      <td>0.895802</td>\n",
       "    </tr>\n",
       "    <tr>\n",
       "      <th>マクロ平均</th>\n",
       "      <td>0.901107</td>\n",
       "      <td>0.762835</td>\n",
       "      <td>0.809717</td>\n",
       "    </tr>\n",
       "  </tbody>\n",
       "</table>\n",
       "</div>"
      ]
     },
     "metadata": {},
     "execution_count": 215
    }
   ],
   "metadata": {}
  },
  {
   "cell_type": "markdown",
   "source": [
    "## 57.特徴量の重みの確認\r\n",
    "52で学習したロジスティック回帰モデルの中で，重みの高い特徴量トップ10と，重みの低い特徴量トップ10を確認せよ．"
   ],
   "metadata": {}
  },
  {
   "cell_type": "code",
   "execution_count": 216,
   "source": [
    "df_X_train = pd.DataFrame(X_train.toarray(), columns=tfidf_vec.get_feature_names())\r\n",
    "df_X_test = pd.DataFrame(X_test.toarray(), columns=tfidf_vec.get_feature_names())\r\n",
    "df_X_train.head(3)"
   ],
   "outputs": [
    {
     "output_type": "execute_result",
     "data": {
      "text/plain": [
       "    05   07   08   09  0ff  0ut   10  100  1000  10000  ...  zooey  zoosk  \\\n",
       "0  0.0  0.0  0.0  0.0  0.0  0.0  0.0  0.0   0.0    0.0  ...    0.0    0.0   \n",
       "1  0.0  0.0  0.0  0.0  0.0  0.0  0.0  0.0   0.0    0.0  ...    0.0    0.0   \n",
       "2  0.0  0.0  0.0  0.0  0.0  0.0  0.0  0.0   0.0    0.0  ...    0.0    0.0   \n",
       "\n",
       "   zpfa3mqti7qdrpfhqwjm  zuckerberg  zynga   zâ   œf  œlousyâ  œpiece  œwaist  \n",
       "0                   0.0         0.0    0.0  0.0  0.0      0.0     0.0     0.0  \n",
       "1                   0.0         0.0    0.0  0.0  0.0      0.0     0.0     0.0  \n",
       "2                   0.0         0.0    0.0  0.0  0.0      0.0     0.0     0.0  \n",
       "\n",
       "[3 rows x 12764 columns]"
      ],
      "text/html": [
       "<div>\n",
       "<style scoped>\n",
       "    .dataframe tbody tr th:only-of-type {\n",
       "        vertical-align: middle;\n",
       "    }\n",
       "\n",
       "    .dataframe tbody tr th {\n",
       "        vertical-align: top;\n",
       "    }\n",
       "\n",
       "    .dataframe thead th {\n",
       "        text-align: right;\n",
       "    }\n",
       "</style>\n",
       "<table border=\"1\" class=\"dataframe\">\n",
       "  <thead>\n",
       "    <tr style=\"text-align: right;\">\n",
       "      <th></th>\n",
       "      <th>05</th>\n",
       "      <th>07</th>\n",
       "      <th>08</th>\n",
       "      <th>09</th>\n",
       "      <th>0ff</th>\n",
       "      <th>0ut</th>\n",
       "      <th>10</th>\n",
       "      <th>100</th>\n",
       "      <th>1000</th>\n",
       "      <th>10000</th>\n",
       "      <th>...</th>\n",
       "      <th>zooey</th>\n",
       "      <th>zoosk</th>\n",
       "      <th>zpfa3mqti7qdrpfhqwjm</th>\n",
       "      <th>zuckerberg</th>\n",
       "      <th>zynga</th>\n",
       "      <th>zâ</th>\n",
       "      <th>œf</th>\n",
       "      <th>œlousyâ</th>\n",
       "      <th>œpiece</th>\n",
       "      <th>œwaist</th>\n",
       "    </tr>\n",
       "  </thead>\n",
       "  <tbody>\n",
       "    <tr>\n",
       "      <th>0</th>\n",
       "      <td>0.0</td>\n",
       "      <td>0.0</td>\n",
       "      <td>0.0</td>\n",
       "      <td>0.0</td>\n",
       "      <td>0.0</td>\n",
       "      <td>0.0</td>\n",
       "      <td>0.0</td>\n",
       "      <td>0.0</td>\n",
       "      <td>0.0</td>\n",
       "      <td>0.0</td>\n",
       "      <td>...</td>\n",
       "      <td>0.0</td>\n",
       "      <td>0.0</td>\n",
       "      <td>0.0</td>\n",
       "      <td>0.0</td>\n",
       "      <td>0.0</td>\n",
       "      <td>0.0</td>\n",
       "      <td>0.0</td>\n",
       "      <td>0.0</td>\n",
       "      <td>0.0</td>\n",
       "      <td>0.0</td>\n",
       "    </tr>\n",
       "    <tr>\n",
       "      <th>1</th>\n",
       "      <td>0.0</td>\n",
       "      <td>0.0</td>\n",
       "      <td>0.0</td>\n",
       "      <td>0.0</td>\n",
       "      <td>0.0</td>\n",
       "      <td>0.0</td>\n",
       "      <td>0.0</td>\n",
       "      <td>0.0</td>\n",
       "      <td>0.0</td>\n",
       "      <td>0.0</td>\n",
       "      <td>...</td>\n",
       "      <td>0.0</td>\n",
       "      <td>0.0</td>\n",
       "      <td>0.0</td>\n",
       "      <td>0.0</td>\n",
       "      <td>0.0</td>\n",
       "      <td>0.0</td>\n",
       "      <td>0.0</td>\n",
       "      <td>0.0</td>\n",
       "      <td>0.0</td>\n",
       "      <td>0.0</td>\n",
       "    </tr>\n",
       "    <tr>\n",
       "      <th>2</th>\n",
       "      <td>0.0</td>\n",
       "      <td>0.0</td>\n",
       "      <td>0.0</td>\n",
       "      <td>0.0</td>\n",
       "      <td>0.0</td>\n",
       "      <td>0.0</td>\n",
       "      <td>0.0</td>\n",
       "      <td>0.0</td>\n",
       "      <td>0.0</td>\n",
       "      <td>0.0</td>\n",
       "      <td>...</td>\n",
       "      <td>0.0</td>\n",
       "      <td>0.0</td>\n",
       "      <td>0.0</td>\n",
       "      <td>0.0</td>\n",
       "      <td>0.0</td>\n",
       "      <td>0.0</td>\n",
       "      <td>0.0</td>\n",
       "      <td>0.0</td>\n",
       "      <td>0.0</td>\n",
       "      <td>0.0</td>\n",
       "    </tr>\n",
       "  </tbody>\n",
       "</table>\n",
       "<p>3 rows × 12764 columns</p>\n",
       "</div>"
      ]
     },
     "metadata": {},
     "execution_count": 216
    }
   ],
   "metadata": {}
  },
  {
   "cell_type": "code",
   "execution_count": 217,
   "source": [
    "df_weights = pd.DataFrame(model.coef_, index=model.classes_, columns=df_X_train.columns).T\r\n",
    "df_weights"
   ],
   "outputs": [
    {
     "output_type": "execute_result",
     "data": {
      "text/plain": [
       "                b         e         m         t\n",
       "05      -0.004721  0.008754 -0.001450 -0.002584\n",
       "07       0.068883 -0.042181 -0.012544 -0.014158\n",
       "08       0.018594 -0.009093 -0.004317 -0.005184\n",
       "09       0.029917 -0.014801 -0.006149 -0.008967\n",
       "0ff     -0.028109  0.061052 -0.017585 -0.015358\n",
       "...           ...       ...       ...       ...\n",
       "zâ      -0.008806  0.037665 -0.010637 -0.018221\n",
       "œf      -0.070255  0.122389 -0.017154 -0.034980\n",
       "œlousyâ -0.062596  0.118413 -0.023575 -0.032242\n",
       "œpiece  -0.081245  0.115131 -0.013374 -0.020512\n",
       "œwaist  -0.011650  0.029450 -0.007144 -0.010656\n",
       "\n",
       "[12764 rows x 4 columns]"
      ],
      "text/html": [
       "<div>\n",
       "<style scoped>\n",
       "    .dataframe tbody tr th:only-of-type {\n",
       "        vertical-align: middle;\n",
       "    }\n",
       "\n",
       "    .dataframe tbody tr th {\n",
       "        vertical-align: top;\n",
       "    }\n",
       "\n",
       "    .dataframe thead th {\n",
       "        text-align: right;\n",
       "    }\n",
       "</style>\n",
       "<table border=\"1\" class=\"dataframe\">\n",
       "  <thead>\n",
       "    <tr style=\"text-align: right;\">\n",
       "      <th></th>\n",
       "      <th>b</th>\n",
       "      <th>e</th>\n",
       "      <th>m</th>\n",
       "      <th>t</th>\n",
       "    </tr>\n",
       "  </thead>\n",
       "  <tbody>\n",
       "    <tr>\n",
       "      <th>05</th>\n",
       "      <td>-0.004721</td>\n",
       "      <td>0.008754</td>\n",
       "      <td>-0.001450</td>\n",
       "      <td>-0.002584</td>\n",
       "    </tr>\n",
       "    <tr>\n",
       "      <th>07</th>\n",
       "      <td>0.068883</td>\n",
       "      <td>-0.042181</td>\n",
       "      <td>-0.012544</td>\n",
       "      <td>-0.014158</td>\n",
       "    </tr>\n",
       "    <tr>\n",
       "      <th>08</th>\n",
       "      <td>0.018594</td>\n",
       "      <td>-0.009093</td>\n",
       "      <td>-0.004317</td>\n",
       "      <td>-0.005184</td>\n",
       "    </tr>\n",
       "    <tr>\n",
       "      <th>09</th>\n",
       "      <td>0.029917</td>\n",
       "      <td>-0.014801</td>\n",
       "      <td>-0.006149</td>\n",
       "      <td>-0.008967</td>\n",
       "    </tr>\n",
       "    <tr>\n",
       "      <th>0ff</th>\n",
       "      <td>-0.028109</td>\n",
       "      <td>0.061052</td>\n",
       "      <td>-0.017585</td>\n",
       "      <td>-0.015358</td>\n",
       "    </tr>\n",
       "    <tr>\n",
       "      <th>...</th>\n",
       "      <td>...</td>\n",
       "      <td>...</td>\n",
       "      <td>...</td>\n",
       "      <td>...</td>\n",
       "    </tr>\n",
       "    <tr>\n",
       "      <th>zâ</th>\n",
       "      <td>-0.008806</td>\n",
       "      <td>0.037665</td>\n",
       "      <td>-0.010637</td>\n",
       "      <td>-0.018221</td>\n",
       "    </tr>\n",
       "    <tr>\n",
       "      <th>œf</th>\n",
       "      <td>-0.070255</td>\n",
       "      <td>0.122389</td>\n",
       "      <td>-0.017154</td>\n",
       "      <td>-0.034980</td>\n",
       "    </tr>\n",
       "    <tr>\n",
       "      <th>œlousyâ</th>\n",
       "      <td>-0.062596</td>\n",
       "      <td>0.118413</td>\n",
       "      <td>-0.023575</td>\n",
       "      <td>-0.032242</td>\n",
       "    </tr>\n",
       "    <tr>\n",
       "      <th>œpiece</th>\n",
       "      <td>-0.081245</td>\n",
       "      <td>0.115131</td>\n",
       "      <td>-0.013374</td>\n",
       "      <td>-0.020512</td>\n",
       "    </tr>\n",
       "    <tr>\n",
       "      <th>œwaist</th>\n",
       "      <td>-0.011650</td>\n",
       "      <td>0.029450</td>\n",
       "      <td>-0.007144</td>\n",
       "      <td>-0.010656</td>\n",
       "    </tr>\n",
       "  </tbody>\n",
       "</table>\n",
       "<p>12764 rows × 4 columns</p>\n",
       "</div>"
      ]
     },
     "metadata": {},
     "execution_count": 217
    }
   ],
   "metadata": {}
  },
  {
   "cell_type": "code",
   "execution_count": 218,
   "source": [
    "df_best10 = pd.DataFrame(index=range(1,10))\r\n",
    "df_worst10 = pd.DataFrame()\r\n",
    "for label in labels:\r\n",
    "  df_best10 = pd.merge(\r\n",
    "    df_best10,\r\n",
    "    pd.DataFrame(df_weights[label].sort_values(ascending=False).head(10).reset_index().set_axis([f\"{label}_word\",f\"{label}_value\"], axis=1)),\r\n",
    "    left_index=True,\r\n",
    "    right_index=True,\r\n",
    "    how=\"outer\"\r\n",
    "  )\r\n",
    "  df_worst10 = pd.merge(\r\n",
    "    df_worst10,\r\n",
    "    pd.DataFrame(df_weights[label].sort_values(ascending=True).head(10).reset_index().set_axis([f\"{label}_word\",f\"{label}_value\"], axis=1)),\r\n",
    "    left_index=True,\r\n",
    "    right_index=True,\r\n",
    "    how=\"outer\"\r\n",
    "  )\r\n",
    "df_best10"
   ],
   "outputs": [
    {
     "output_type": "execute_result",
     "data": {
      "text/plain": [
       "    b_word   b_value  m_word   m_value      e_word   e_value     t_word  \\\n",
       "0    china  3.486889   ebola  4.581722  kardashian  3.235733     google   \n",
       "1      fed  3.483078   study  3.866656         her  2.864970   facebook   \n",
       "2     bank  3.406272  cancer  3.838957       chris  2.688136      apple   \n",
       "3   stocks  3.226849     fda  3.729969        star  2.570420    climate   \n",
       "4      ecb  3.159029    drug  3.485057         she  2.554801  microsoft   \n",
       "5     euro  2.966304    mers  3.057071         kim  2.497468         gm   \n",
       "6   update  2.697940  health  2.576026       miley  2.478249      tesla   \n",
       "7      oil  2.688688   cases  2.429670       cyrus  2.428558       nasa   \n",
       "8  ukraine  2.509668   could  2.308200        film  2.374840     mobile   \n",
       "9   dollar  2.471460   heart  2.264832       movie  2.323641    comcast   \n",
       "\n",
       "    t_value  \n",
       "0  5.528656  \n",
       "1  4.896001  \n",
       "2  4.748743  \n",
       "3  3.952941  \n",
       "4  3.885825  \n",
       "5  3.363674  \n",
       "6  3.097616  \n",
       "7  2.791598  \n",
       "8  2.673299  \n",
       "9  2.612757  "
      ],
      "text/html": [
       "<div>\n",
       "<style scoped>\n",
       "    .dataframe tbody tr th:only-of-type {\n",
       "        vertical-align: middle;\n",
       "    }\n",
       "\n",
       "    .dataframe tbody tr th {\n",
       "        vertical-align: top;\n",
       "    }\n",
       "\n",
       "    .dataframe thead th {\n",
       "        text-align: right;\n",
       "    }\n",
       "</style>\n",
       "<table border=\"1\" class=\"dataframe\">\n",
       "  <thead>\n",
       "    <tr style=\"text-align: right;\">\n",
       "      <th></th>\n",
       "      <th>b_word</th>\n",
       "      <th>b_value</th>\n",
       "      <th>m_word</th>\n",
       "      <th>m_value</th>\n",
       "      <th>e_word</th>\n",
       "      <th>e_value</th>\n",
       "      <th>t_word</th>\n",
       "      <th>t_value</th>\n",
       "    </tr>\n",
       "  </thead>\n",
       "  <tbody>\n",
       "    <tr>\n",
       "      <th>0</th>\n",
       "      <td>china</td>\n",
       "      <td>3.486889</td>\n",
       "      <td>ebola</td>\n",
       "      <td>4.581722</td>\n",
       "      <td>kardashian</td>\n",
       "      <td>3.235733</td>\n",
       "      <td>google</td>\n",
       "      <td>5.528656</td>\n",
       "    </tr>\n",
       "    <tr>\n",
       "      <th>1</th>\n",
       "      <td>fed</td>\n",
       "      <td>3.483078</td>\n",
       "      <td>study</td>\n",
       "      <td>3.866656</td>\n",
       "      <td>her</td>\n",
       "      <td>2.864970</td>\n",
       "      <td>facebook</td>\n",
       "      <td>4.896001</td>\n",
       "    </tr>\n",
       "    <tr>\n",
       "      <th>2</th>\n",
       "      <td>bank</td>\n",
       "      <td>3.406272</td>\n",
       "      <td>cancer</td>\n",
       "      <td>3.838957</td>\n",
       "      <td>chris</td>\n",
       "      <td>2.688136</td>\n",
       "      <td>apple</td>\n",
       "      <td>4.748743</td>\n",
       "    </tr>\n",
       "    <tr>\n",
       "      <th>3</th>\n",
       "      <td>stocks</td>\n",
       "      <td>3.226849</td>\n",
       "      <td>fda</td>\n",
       "      <td>3.729969</td>\n",
       "      <td>star</td>\n",
       "      <td>2.570420</td>\n",
       "      <td>climate</td>\n",
       "      <td>3.952941</td>\n",
       "    </tr>\n",
       "    <tr>\n",
       "      <th>4</th>\n",
       "      <td>ecb</td>\n",
       "      <td>3.159029</td>\n",
       "      <td>drug</td>\n",
       "      <td>3.485057</td>\n",
       "      <td>she</td>\n",
       "      <td>2.554801</td>\n",
       "      <td>microsoft</td>\n",
       "      <td>3.885825</td>\n",
       "    </tr>\n",
       "    <tr>\n",
       "      <th>5</th>\n",
       "      <td>euro</td>\n",
       "      <td>2.966304</td>\n",
       "      <td>mers</td>\n",
       "      <td>3.057071</td>\n",
       "      <td>kim</td>\n",
       "      <td>2.497468</td>\n",
       "      <td>gm</td>\n",
       "      <td>3.363674</td>\n",
       "    </tr>\n",
       "    <tr>\n",
       "      <th>6</th>\n",
       "      <td>update</td>\n",
       "      <td>2.697940</td>\n",
       "      <td>health</td>\n",
       "      <td>2.576026</td>\n",
       "      <td>miley</td>\n",
       "      <td>2.478249</td>\n",
       "      <td>tesla</td>\n",
       "      <td>3.097616</td>\n",
       "    </tr>\n",
       "    <tr>\n",
       "      <th>7</th>\n",
       "      <td>oil</td>\n",
       "      <td>2.688688</td>\n",
       "      <td>cases</td>\n",
       "      <td>2.429670</td>\n",
       "      <td>cyrus</td>\n",
       "      <td>2.428558</td>\n",
       "      <td>nasa</td>\n",
       "      <td>2.791598</td>\n",
       "    </tr>\n",
       "    <tr>\n",
       "      <th>8</th>\n",
       "      <td>ukraine</td>\n",
       "      <td>2.509668</td>\n",
       "      <td>could</td>\n",
       "      <td>2.308200</td>\n",
       "      <td>film</td>\n",
       "      <td>2.374840</td>\n",
       "      <td>mobile</td>\n",
       "      <td>2.673299</td>\n",
       "    </tr>\n",
       "    <tr>\n",
       "      <th>9</th>\n",
       "      <td>dollar</td>\n",
       "      <td>2.471460</td>\n",
       "      <td>heart</td>\n",
       "      <td>2.264832</td>\n",
       "      <td>movie</td>\n",
       "      <td>2.323641</td>\n",
       "      <td>comcast</td>\n",
       "      <td>2.612757</td>\n",
       "    </tr>\n",
       "  </tbody>\n",
       "</table>\n",
       "</div>"
      ]
     },
     "metadata": {},
     "execution_count": 218
    }
   ],
   "metadata": {}
  },
  {
   "cell_type": "code",
   "execution_count": 219,
   "source": [
    "df_worst10"
   ],
   "outputs": [
    {
     "output_type": "execute_result",
     "data": {
      "text/plain": [
       "      b_word   b_value    m_word   m_value    e_word   e_value      t_word  \\\n",
       "0        the -2.108695        gm -1.169854    update -3.530433      stocks   \n",
       "1        and -2.026373  facebook -1.079749        us -3.252529         fed   \n",
       "2      ebola -1.948874    google -1.053034    google -2.804136        drug   \n",
       "3        she -1.830033     apple -0.971099     china -2.314718    american   \n",
       "4        her -1.818175    amazon -0.958561      says -2.310574         ecb   \n",
       "5      apple -1.765809      deal -0.892157        gm -2.240274      cancer   \n",
       "6  microsoft -1.717190       ceo -0.889915  facebook -2.184366         day   \n",
       "7      study -1.677262       fed -0.885209     study -2.134899         her   \n",
       "8     google -1.671486   billion -0.847226       ceo -2.127249  kardashian   \n",
       "9   facebook -1.631886   climate -0.832703     apple -2.011835       ebola   \n",
       "\n",
       "    t_value  \n",
       "0 -1.460971  \n",
       "1 -1.144156  \n",
       "2 -1.086358  \n",
       "3 -1.056126  \n",
       "4 -1.023379  \n",
       "5 -0.965979  \n",
       "6 -0.956874  \n",
       "7 -0.933353  \n",
       "8 -0.929507  \n",
       "9 -0.913903  "
      ],
      "text/html": [
       "<div>\n",
       "<style scoped>\n",
       "    .dataframe tbody tr th:only-of-type {\n",
       "        vertical-align: middle;\n",
       "    }\n",
       "\n",
       "    .dataframe tbody tr th {\n",
       "        vertical-align: top;\n",
       "    }\n",
       "\n",
       "    .dataframe thead th {\n",
       "        text-align: right;\n",
       "    }\n",
       "</style>\n",
       "<table border=\"1\" class=\"dataframe\">\n",
       "  <thead>\n",
       "    <tr style=\"text-align: right;\">\n",
       "      <th></th>\n",
       "      <th>b_word</th>\n",
       "      <th>b_value</th>\n",
       "      <th>m_word</th>\n",
       "      <th>m_value</th>\n",
       "      <th>e_word</th>\n",
       "      <th>e_value</th>\n",
       "      <th>t_word</th>\n",
       "      <th>t_value</th>\n",
       "    </tr>\n",
       "  </thead>\n",
       "  <tbody>\n",
       "    <tr>\n",
       "      <th>0</th>\n",
       "      <td>the</td>\n",
       "      <td>-2.108695</td>\n",
       "      <td>gm</td>\n",
       "      <td>-1.169854</td>\n",
       "      <td>update</td>\n",
       "      <td>-3.530433</td>\n",
       "      <td>stocks</td>\n",
       "      <td>-1.460971</td>\n",
       "    </tr>\n",
       "    <tr>\n",
       "      <th>1</th>\n",
       "      <td>and</td>\n",
       "      <td>-2.026373</td>\n",
       "      <td>facebook</td>\n",
       "      <td>-1.079749</td>\n",
       "      <td>us</td>\n",
       "      <td>-3.252529</td>\n",
       "      <td>fed</td>\n",
       "      <td>-1.144156</td>\n",
       "    </tr>\n",
       "    <tr>\n",
       "      <th>2</th>\n",
       "      <td>ebola</td>\n",
       "      <td>-1.948874</td>\n",
       "      <td>google</td>\n",
       "      <td>-1.053034</td>\n",
       "      <td>google</td>\n",
       "      <td>-2.804136</td>\n",
       "      <td>drug</td>\n",
       "      <td>-1.086358</td>\n",
       "    </tr>\n",
       "    <tr>\n",
       "      <th>3</th>\n",
       "      <td>she</td>\n",
       "      <td>-1.830033</td>\n",
       "      <td>apple</td>\n",
       "      <td>-0.971099</td>\n",
       "      <td>china</td>\n",
       "      <td>-2.314718</td>\n",
       "      <td>american</td>\n",
       "      <td>-1.056126</td>\n",
       "    </tr>\n",
       "    <tr>\n",
       "      <th>4</th>\n",
       "      <td>her</td>\n",
       "      <td>-1.818175</td>\n",
       "      <td>amazon</td>\n",
       "      <td>-0.958561</td>\n",
       "      <td>says</td>\n",
       "      <td>-2.310574</td>\n",
       "      <td>ecb</td>\n",
       "      <td>-1.023379</td>\n",
       "    </tr>\n",
       "    <tr>\n",
       "      <th>5</th>\n",
       "      <td>apple</td>\n",
       "      <td>-1.765809</td>\n",
       "      <td>deal</td>\n",
       "      <td>-0.892157</td>\n",
       "      <td>gm</td>\n",
       "      <td>-2.240274</td>\n",
       "      <td>cancer</td>\n",
       "      <td>-0.965979</td>\n",
       "    </tr>\n",
       "    <tr>\n",
       "      <th>6</th>\n",
       "      <td>microsoft</td>\n",
       "      <td>-1.717190</td>\n",
       "      <td>ceo</td>\n",
       "      <td>-0.889915</td>\n",
       "      <td>facebook</td>\n",
       "      <td>-2.184366</td>\n",
       "      <td>day</td>\n",
       "      <td>-0.956874</td>\n",
       "    </tr>\n",
       "    <tr>\n",
       "      <th>7</th>\n",
       "      <td>study</td>\n",
       "      <td>-1.677262</td>\n",
       "      <td>fed</td>\n",
       "      <td>-0.885209</td>\n",
       "      <td>study</td>\n",
       "      <td>-2.134899</td>\n",
       "      <td>her</td>\n",
       "      <td>-0.933353</td>\n",
       "    </tr>\n",
       "    <tr>\n",
       "      <th>8</th>\n",
       "      <td>google</td>\n",
       "      <td>-1.671486</td>\n",
       "      <td>billion</td>\n",
       "      <td>-0.847226</td>\n",
       "      <td>ceo</td>\n",
       "      <td>-2.127249</td>\n",
       "      <td>kardashian</td>\n",
       "      <td>-0.929507</td>\n",
       "    </tr>\n",
       "    <tr>\n",
       "      <th>9</th>\n",
       "      <td>facebook</td>\n",
       "      <td>-1.631886</td>\n",
       "      <td>climate</td>\n",
       "      <td>-0.832703</td>\n",
       "      <td>apple</td>\n",
       "      <td>-2.011835</td>\n",
       "      <td>ebola</td>\n",
       "      <td>-0.913903</td>\n",
       "    </tr>\n",
       "  </tbody>\n",
       "</table>\n",
       "</div>"
      ]
     },
     "metadata": {},
     "execution_count": 219
    }
   ],
   "metadata": {}
  },
  {
   "cell_type": "markdown",
   "source": [
    "## 58.正則化パラメータの変更\r\n",
    "ロジスティック回帰モデルを学習するとき，正則化パラメータを調整することで，学習時の過学習（overfitting）の度合いを制御できる．異なる正則化パラメータでロジスティック回帰モデルを学習し，学習データ，検証データ，および評価データ上の正解率を求めよ．実験の結果は，正則化パラメータを横軸，正解率を縦軸としたグラフにまとめよ．"
   ],
   "metadata": {}
  },
  {
   "cell_type": "markdown",
   "source": [
    "# $min f_{loss}(x)+\\lambda \\sum_{i=1}^{n}|w_{i}|$"
   ],
   "metadata": {}
  },
  {
   "cell_type": "code",
   "execution_count": 220,
   "source": [
    "df_regularization = pd.DataFrame(columns=[\"lambda\",\"train_accuracy\",\"valid_accuracy\",\"test_accuracy\"])\r\n",
    "for C in tqdm(np.arange(0.1,2.0,0.2)):\r\n",
    "    model = LogisticRegression(random_state=123, max_iter=10000,C=C)\r\n",
    "    model.fit(X_train, df_train[\"CATEGORY\"])\r\n",
    "    pred_train = model.predict(X_train)\r\n",
    "    pred_valid = model.predict(X_valid)\r\n",
    "    pred_test = model.predict(X_test)\r\n",
    "    df_regularization.loc[C] = [\r\n",
    "        C,\r\n",
    "        accuracy_score(df_train[\"CATEGORY\"], pred_train),\r\n",
    "        accuracy_score(df_valid[\"CATEGORY\"], pred_valid),\r\n",
    "        accuracy_score(df_test[\"CATEGORY\"], pred_test)\r\n",
    "    ]\r\n",
    "df_regularization = df_regularization.reset_index(drop=True)\r\n",
    "df_regularization"
   ],
   "outputs": [
    {
     "output_type": "stream",
     "name": "stderr",
     "text": [
      "100%|██████████| 10/10 [00:08<00:00,  1.14it/s]\n"
     ]
    },
    {
     "output_type": "execute_result",
     "data": {
      "text/plain": [
       "   lambda  train_accuracy  valid_accuracy  test_accuracy\n",
       "0     0.1        0.790480        0.787106       0.797601\n",
       "1     0.3        0.869753        0.848576       0.852324\n",
       "2     0.5        0.905079        0.868816       0.877811\n",
       "3     0.7        0.926349        0.876312       0.889805\n",
       "4     0.9        0.940499        0.881559       0.895802\n",
       "5     1.1        0.951087        0.885307       0.899550\n",
       "6     1.3        0.959052        0.889805       0.901799\n",
       "7     1.5        0.965986        0.892054       0.904048\n",
       "8     1.7        0.971608        0.892804       0.905547\n",
       "9     1.9        0.976199        0.895802       0.907796"
      ],
      "text/html": [
       "<div>\n",
       "<style scoped>\n",
       "    .dataframe tbody tr th:only-of-type {\n",
       "        vertical-align: middle;\n",
       "    }\n",
       "\n",
       "    .dataframe tbody tr th {\n",
       "        vertical-align: top;\n",
       "    }\n",
       "\n",
       "    .dataframe thead th {\n",
       "        text-align: right;\n",
       "    }\n",
       "</style>\n",
       "<table border=\"1\" class=\"dataframe\">\n",
       "  <thead>\n",
       "    <tr style=\"text-align: right;\">\n",
       "      <th></th>\n",
       "      <th>lambda</th>\n",
       "      <th>train_accuracy</th>\n",
       "      <th>valid_accuracy</th>\n",
       "      <th>test_accuracy</th>\n",
       "    </tr>\n",
       "  </thead>\n",
       "  <tbody>\n",
       "    <tr>\n",
       "      <th>0</th>\n",
       "      <td>0.1</td>\n",
       "      <td>0.790480</td>\n",
       "      <td>0.787106</td>\n",
       "      <td>0.797601</td>\n",
       "    </tr>\n",
       "    <tr>\n",
       "      <th>1</th>\n",
       "      <td>0.3</td>\n",
       "      <td>0.869753</td>\n",
       "      <td>0.848576</td>\n",
       "      <td>0.852324</td>\n",
       "    </tr>\n",
       "    <tr>\n",
       "      <th>2</th>\n",
       "      <td>0.5</td>\n",
       "      <td>0.905079</td>\n",
       "      <td>0.868816</td>\n",
       "      <td>0.877811</td>\n",
       "    </tr>\n",
       "    <tr>\n",
       "      <th>3</th>\n",
       "      <td>0.7</td>\n",
       "      <td>0.926349</td>\n",
       "      <td>0.876312</td>\n",
       "      <td>0.889805</td>\n",
       "    </tr>\n",
       "    <tr>\n",
       "      <th>4</th>\n",
       "      <td>0.9</td>\n",
       "      <td>0.940499</td>\n",
       "      <td>0.881559</td>\n",
       "      <td>0.895802</td>\n",
       "    </tr>\n",
       "    <tr>\n",
       "      <th>5</th>\n",
       "      <td>1.1</td>\n",
       "      <td>0.951087</td>\n",
       "      <td>0.885307</td>\n",
       "      <td>0.899550</td>\n",
       "    </tr>\n",
       "    <tr>\n",
       "      <th>6</th>\n",
       "      <td>1.3</td>\n",
       "      <td>0.959052</td>\n",
       "      <td>0.889805</td>\n",
       "      <td>0.901799</td>\n",
       "    </tr>\n",
       "    <tr>\n",
       "      <th>7</th>\n",
       "      <td>1.5</td>\n",
       "      <td>0.965986</td>\n",
       "      <td>0.892054</td>\n",
       "      <td>0.904048</td>\n",
       "    </tr>\n",
       "    <tr>\n",
       "      <th>8</th>\n",
       "      <td>1.7</td>\n",
       "      <td>0.971608</td>\n",
       "      <td>0.892804</td>\n",
       "      <td>0.905547</td>\n",
       "    </tr>\n",
       "    <tr>\n",
       "      <th>9</th>\n",
       "      <td>1.9</td>\n",
       "      <td>0.976199</td>\n",
       "      <td>0.895802</td>\n",
       "      <td>0.907796</td>\n",
       "    </tr>\n",
       "  </tbody>\n",
       "</table>\n",
       "</div>"
      ]
     },
     "metadata": {},
     "execution_count": 220
    }
   ],
   "metadata": {}
  },
  {
   "cell_type": "code",
   "execution_count": 221,
   "source": [
    "fig = go.Figure()\r\n",
    "fig.add_trace(go.Scatter(x=df_regularization[\"lambda\"], y=df_regularization[\"train_accuracy\"], name=\"train_accuracy\"))\r\n",
    "fig.add_trace(go.Scatter(x=df_regularization[\"lambda\"], y=df_regularization[\"valid_accuracy\"], name=\"valid_accuracy\"))\r\n",
    "fig.add_trace(go.Scatter(x=df_regularization[\"lambda\"], y=df_regularization[\"test_accuracy\"], name=\"test_accuracy\"))\r\n",
    "fig.show()"
   ],
   "outputs": [
    {
     "output_type": "display_data",
     "data": {
      "application/vnd.plotly.v1+json": {
       "config": {
        "plotlyServerURL": "https://plot.ly"
       },
       "data": [
        {
         "name": "train_accuracy",
         "type": "scatter",
         "x": [
          0.1,
          0.30000000000000004,
          0.5000000000000001,
          0.7000000000000001,
          0.9000000000000001,
          1.1000000000000003,
          1.3000000000000003,
          1.5000000000000004,
          1.7000000000000004,
          1.9000000000000004
         ],
         "y": [
          0.79047976011994,
          0.8697526236881559,
          0.9050787106446777,
          0.9263493253373314,
          0.9404985007496252,
          0.9510869565217391,
          0.959051724137931,
          0.9659857571214393,
          0.9716079460269865,
          0.9761994002998501
         ]
        },
        {
         "name": "valid_accuracy",
         "type": "scatter",
         "x": [
          0.1,
          0.30000000000000004,
          0.5000000000000001,
          0.7000000000000001,
          0.9000000000000001,
          1.1000000000000003,
          1.3000000000000003,
          1.5000000000000004,
          1.7000000000000004,
          1.9000000000000004
         ],
         "y": [
          0.7871064467766117,
          0.848575712143928,
          0.868815592203898,
          0.876311844077961,
          0.881559220389805,
          0.8853073463268366,
          0.8898050974512743,
          0.8920539730134932,
          0.8928035982008995,
          0.8958020989505248
         ]
        },
        {
         "name": "test_accuracy",
         "type": "scatter",
         "x": [
          0.1,
          0.30000000000000004,
          0.5000000000000001,
          0.7000000000000001,
          0.9000000000000001,
          1.1000000000000003,
          1.3000000000000003,
          1.5000000000000004,
          1.7000000000000004,
          1.9000000000000004
         ],
         "y": [
          0.7976011994002998,
          0.8523238380809596,
          0.8778110944527736,
          0.8898050974512743,
          0.8958020989505248,
          0.8995502248875562,
          0.9017991004497751,
          0.904047976011994,
          0.9055472263868066,
          0.9077961019490255
         ]
        }
       ],
       "layout": {
        "template": {
         "data": {
          "bar": [
           {
            "error_x": {
             "color": "#2a3f5f"
            },
            "error_y": {
             "color": "#2a3f5f"
            },
            "marker": {
             "line": {
              "color": "#E5ECF6",
              "width": 0.5
             }
            },
            "type": "bar"
           }
          ],
          "barpolar": [
           {
            "marker": {
             "line": {
              "color": "#E5ECF6",
              "width": 0.5
             }
            },
            "type": "barpolar"
           }
          ],
          "carpet": [
           {
            "aaxis": {
             "endlinecolor": "#2a3f5f",
             "gridcolor": "white",
             "linecolor": "white",
             "minorgridcolor": "white",
             "startlinecolor": "#2a3f5f"
            },
            "baxis": {
             "endlinecolor": "#2a3f5f",
             "gridcolor": "white",
             "linecolor": "white",
             "minorgridcolor": "white",
             "startlinecolor": "#2a3f5f"
            },
            "type": "carpet"
           }
          ],
          "choropleth": [
           {
            "colorbar": {
             "outlinewidth": 0,
             "ticks": ""
            },
            "type": "choropleth"
           }
          ],
          "contour": [
           {
            "colorbar": {
             "outlinewidth": 0,
             "ticks": ""
            },
            "colorscale": [
             [
              0,
              "#0d0887"
             ],
             [
              0.1111111111111111,
              "#46039f"
             ],
             [
              0.2222222222222222,
              "#7201a8"
             ],
             [
              0.3333333333333333,
              "#9c179e"
             ],
             [
              0.4444444444444444,
              "#bd3786"
             ],
             [
              0.5555555555555556,
              "#d8576b"
             ],
             [
              0.6666666666666666,
              "#ed7953"
             ],
             [
              0.7777777777777778,
              "#fb9f3a"
             ],
             [
              0.8888888888888888,
              "#fdca26"
             ],
             [
              1,
              "#f0f921"
             ]
            ],
            "type": "contour"
           }
          ],
          "contourcarpet": [
           {
            "colorbar": {
             "outlinewidth": 0,
             "ticks": ""
            },
            "type": "contourcarpet"
           }
          ],
          "heatmap": [
           {
            "colorbar": {
             "outlinewidth": 0,
             "ticks": ""
            },
            "colorscale": [
             [
              0,
              "#0d0887"
             ],
             [
              0.1111111111111111,
              "#46039f"
             ],
             [
              0.2222222222222222,
              "#7201a8"
             ],
             [
              0.3333333333333333,
              "#9c179e"
             ],
             [
              0.4444444444444444,
              "#bd3786"
             ],
             [
              0.5555555555555556,
              "#d8576b"
             ],
             [
              0.6666666666666666,
              "#ed7953"
             ],
             [
              0.7777777777777778,
              "#fb9f3a"
             ],
             [
              0.8888888888888888,
              "#fdca26"
             ],
             [
              1,
              "#f0f921"
             ]
            ],
            "type": "heatmap"
           }
          ],
          "heatmapgl": [
           {
            "colorbar": {
             "outlinewidth": 0,
             "ticks": ""
            },
            "colorscale": [
             [
              0,
              "#0d0887"
             ],
             [
              0.1111111111111111,
              "#46039f"
             ],
             [
              0.2222222222222222,
              "#7201a8"
             ],
             [
              0.3333333333333333,
              "#9c179e"
             ],
             [
              0.4444444444444444,
              "#bd3786"
             ],
             [
              0.5555555555555556,
              "#d8576b"
             ],
             [
              0.6666666666666666,
              "#ed7953"
             ],
             [
              0.7777777777777778,
              "#fb9f3a"
             ],
             [
              0.8888888888888888,
              "#fdca26"
             ],
             [
              1,
              "#f0f921"
             ]
            ],
            "type": "heatmapgl"
           }
          ],
          "histogram": [
           {
            "marker": {
             "colorbar": {
              "outlinewidth": 0,
              "ticks": ""
             }
            },
            "type": "histogram"
           }
          ],
          "histogram2d": [
           {
            "colorbar": {
             "outlinewidth": 0,
             "ticks": ""
            },
            "colorscale": [
             [
              0,
              "#0d0887"
             ],
             [
              0.1111111111111111,
              "#46039f"
             ],
             [
              0.2222222222222222,
              "#7201a8"
             ],
             [
              0.3333333333333333,
              "#9c179e"
             ],
             [
              0.4444444444444444,
              "#bd3786"
             ],
             [
              0.5555555555555556,
              "#d8576b"
             ],
             [
              0.6666666666666666,
              "#ed7953"
             ],
             [
              0.7777777777777778,
              "#fb9f3a"
             ],
             [
              0.8888888888888888,
              "#fdca26"
             ],
             [
              1,
              "#f0f921"
             ]
            ],
            "type": "histogram2d"
           }
          ],
          "histogram2dcontour": [
           {
            "colorbar": {
             "outlinewidth": 0,
             "ticks": ""
            },
            "colorscale": [
             [
              0,
              "#0d0887"
             ],
             [
              0.1111111111111111,
              "#46039f"
             ],
             [
              0.2222222222222222,
              "#7201a8"
             ],
             [
              0.3333333333333333,
              "#9c179e"
             ],
             [
              0.4444444444444444,
              "#bd3786"
             ],
             [
              0.5555555555555556,
              "#d8576b"
             ],
             [
              0.6666666666666666,
              "#ed7953"
             ],
             [
              0.7777777777777778,
              "#fb9f3a"
             ],
             [
              0.8888888888888888,
              "#fdca26"
             ],
             [
              1,
              "#f0f921"
             ]
            ],
            "type": "histogram2dcontour"
           }
          ],
          "mesh3d": [
           {
            "colorbar": {
             "outlinewidth": 0,
             "ticks": ""
            },
            "type": "mesh3d"
           }
          ],
          "parcoords": [
           {
            "line": {
             "colorbar": {
              "outlinewidth": 0,
              "ticks": ""
             }
            },
            "type": "parcoords"
           }
          ],
          "pie": [
           {
            "automargin": true,
            "type": "pie"
           }
          ],
          "scatter": [
           {
            "marker": {
             "colorbar": {
              "outlinewidth": 0,
              "ticks": ""
             }
            },
            "type": "scatter"
           }
          ],
          "scatter3d": [
           {
            "line": {
             "colorbar": {
              "outlinewidth": 0,
              "ticks": ""
             }
            },
            "marker": {
             "colorbar": {
              "outlinewidth": 0,
              "ticks": ""
             }
            },
            "type": "scatter3d"
           }
          ],
          "scattercarpet": [
           {
            "marker": {
             "colorbar": {
              "outlinewidth": 0,
              "ticks": ""
             }
            },
            "type": "scattercarpet"
           }
          ],
          "scattergeo": [
           {
            "marker": {
             "colorbar": {
              "outlinewidth": 0,
              "ticks": ""
             }
            },
            "type": "scattergeo"
           }
          ],
          "scattergl": [
           {
            "marker": {
             "colorbar": {
              "outlinewidth": 0,
              "ticks": ""
             }
            },
            "type": "scattergl"
           }
          ],
          "scattermapbox": [
           {
            "marker": {
             "colorbar": {
              "outlinewidth": 0,
              "ticks": ""
             }
            },
            "type": "scattermapbox"
           }
          ],
          "scatterpolar": [
           {
            "marker": {
             "colorbar": {
              "outlinewidth": 0,
              "ticks": ""
             }
            },
            "type": "scatterpolar"
           }
          ],
          "scatterpolargl": [
           {
            "marker": {
             "colorbar": {
              "outlinewidth": 0,
              "ticks": ""
             }
            },
            "type": "scatterpolargl"
           }
          ],
          "scatterternary": [
           {
            "marker": {
             "colorbar": {
              "outlinewidth": 0,
              "ticks": ""
             }
            },
            "type": "scatterternary"
           }
          ],
          "surface": [
           {
            "colorbar": {
             "outlinewidth": 0,
             "ticks": ""
            },
            "colorscale": [
             [
              0,
              "#0d0887"
             ],
             [
              0.1111111111111111,
              "#46039f"
             ],
             [
              0.2222222222222222,
              "#7201a8"
             ],
             [
              0.3333333333333333,
              "#9c179e"
             ],
             [
              0.4444444444444444,
              "#bd3786"
             ],
             [
              0.5555555555555556,
              "#d8576b"
             ],
             [
              0.6666666666666666,
              "#ed7953"
             ],
             [
              0.7777777777777778,
              "#fb9f3a"
             ],
             [
              0.8888888888888888,
              "#fdca26"
             ],
             [
              1,
              "#f0f921"
             ]
            ],
            "type": "surface"
           }
          ],
          "table": [
           {
            "cells": {
             "fill": {
              "color": "#EBF0F8"
             },
             "line": {
              "color": "white"
             }
            },
            "header": {
             "fill": {
              "color": "#C8D4E3"
             },
             "line": {
              "color": "white"
             }
            },
            "type": "table"
           }
          ]
         },
         "layout": {
          "annotationdefaults": {
           "arrowcolor": "#2a3f5f",
           "arrowhead": 0,
           "arrowwidth": 1
          },
          "coloraxis": {
           "colorbar": {
            "outlinewidth": 0,
            "ticks": ""
           }
          },
          "colorscale": {
           "diverging": [
            [
             0,
             "#8e0152"
            ],
            [
             0.1,
             "#c51b7d"
            ],
            [
             0.2,
             "#de77ae"
            ],
            [
             0.3,
             "#f1b6da"
            ],
            [
             0.4,
             "#fde0ef"
            ],
            [
             0.5,
             "#f7f7f7"
            ],
            [
             0.6,
             "#e6f5d0"
            ],
            [
             0.7,
             "#b8e186"
            ],
            [
             0.8,
             "#7fbc41"
            ],
            [
             0.9,
             "#4d9221"
            ],
            [
             1,
             "#276419"
            ]
           ],
           "sequential": [
            [
             0,
             "#0d0887"
            ],
            [
             0.1111111111111111,
             "#46039f"
            ],
            [
             0.2222222222222222,
             "#7201a8"
            ],
            [
             0.3333333333333333,
             "#9c179e"
            ],
            [
             0.4444444444444444,
             "#bd3786"
            ],
            [
             0.5555555555555556,
             "#d8576b"
            ],
            [
             0.6666666666666666,
             "#ed7953"
            ],
            [
             0.7777777777777778,
             "#fb9f3a"
            ],
            [
             0.8888888888888888,
             "#fdca26"
            ],
            [
             1,
             "#f0f921"
            ]
           ],
           "sequentialminus": [
            [
             0,
             "#0d0887"
            ],
            [
             0.1111111111111111,
             "#46039f"
            ],
            [
             0.2222222222222222,
             "#7201a8"
            ],
            [
             0.3333333333333333,
             "#9c179e"
            ],
            [
             0.4444444444444444,
             "#bd3786"
            ],
            [
             0.5555555555555556,
             "#d8576b"
            ],
            [
             0.6666666666666666,
             "#ed7953"
            ],
            [
             0.7777777777777778,
             "#fb9f3a"
            ],
            [
             0.8888888888888888,
             "#fdca26"
            ],
            [
             1,
             "#f0f921"
            ]
           ]
          },
          "colorway": [
           "#636efa",
           "#EF553B",
           "#00cc96",
           "#ab63fa",
           "#FFA15A",
           "#19d3f3",
           "#FF6692",
           "#B6E880",
           "#FF97FF",
           "#FECB52"
          ],
          "font": {
           "color": "#2a3f5f"
          },
          "geo": {
           "bgcolor": "white",
           "lakecolor": "white",
           "landcolor": "#E5ECF6",
           "showlakes": true,
           "showland": true,
           "subunitcolor": "white"
          },
          "hoverlabel": {
           "align": "left"
          },
          "hovermode": "closest",
          "mapbox": {
           "style": "light"
          },
          "paper_bgcolor": "white",
          "plot_bgcolor": "#E5ECF6",
          "polar": {
           "angularaxis": {
            "gridcolor": "white",
            "linecolor": "white",
            "ticks": ""
           },
           "bgcolor": "#E5ECF6",
           "radialaxis": {
            "gridcolor": "white",
            "linecolor": "white",
            "ticks": ""
           }
          },
          "scene": {
           "xaxis": {
            "backgroundcolor": "#E5ECF6",
            "gridcolor": "white",
            "gridwidth": 2,
            "linecolor": "white",
            "showbackground": true,
            "ticks": "",
            "zerolinecolor": "white"
           },
           "yaxis": {
            "backgroundcolor": "#E5ECF6",
            "gridcolor": "white",
            "gridwidth": 2,
            "linecolor": "white",
            "showbackground": true,
            "ticks": "",
            "zerolinecolor": "white"
           },
           "zaxis": {
            "backgroundcolor": "#E5ECF6",
            "gridcolor": "white",
            "gridwidth": 2,
            "linecolor": "white",
            "showbackground": true,
            "ticks": "",
            "zerolinecolor": "white"
           }
          },
          "shapedefaults": {
           "line": {
            "color": "#2a3f5f"
           }
          },
          "ternary": {
           "aaxis": {
            "gridcolor": "white",
            "linecolor": "white",
            "ticks": ""
           },
           "baxis": {
            "gridcolor": "white",
            "linecolor": "white",
            "ticks": ""
           },
           "bgcolor": "#E5ECF6",
           "caxis": {
            "gridcolor": "white",
            "linecolor": "white",
            "ticks": ""
           }
          },
          "title": {
           "x": 0.05
          },
          "xaxis": {
           "automargin": true,
           "gridcolor": "white",
           "linecolor": "white",
           "ticks": "",
           "title": {
            "standoff": 15
           },
           "zerolinecolor": "white",
           "zerolinewidth": 2
          },
          "yaxis": {
           "automargin": true,
           "gridcolor": "white",
           "linecolor": "white",
           "ticks": "",
           "title": {
            "standoff": 15
           },
           "zerolinecolor": "white",
           "zerolinewidth": 2
          }
         }
        }
       }
      }
     },
     "metadata": {}
    }
   ],
   "metadata": {}
  },
  {
   "cell_type": "markdown",
   "source": [
    "## 59.ハイパーパラメータの探索\r\n",
    "学習アルゴリズムや学習パラメータを変えながら，カテゴリ分類モデルを学習せよ．検証データ上の正解率が最も高くなる学習アルゴリズム・パラメータを求めよ．また，その学習アルゴリズム・パラメータを用いたときの評価データ上の正解率を求めよ．"
   ],
   "metadata": {}
  },
  {
   "cell_type": "markdown",
   "source": [
    "### Logistic Regression"
   ],
   "metadata": {}
  },
  {
   "cell_type": "code",
   "execution_count": 222,
   "source": [
    "def objective_lg(trial):\r\n",
    "    l1_ratio = trial.suggest_uniform(\"l1_ratio\", 0, 1)\r\n",
    "    C = trial.suggest_uniform(\"C\", 0.1, 2)\r\n",
    "    model = LogisticRegression(\r\n",
    "        random_state=123, \r\n",
    "        max_iter=10000, \r\n",
    "        C=C,\r\n",
    "        l1_ratio=l1_ratio, \r\n",
    "        penalty='elasticnet',\r\n",
    "        solver='saga'\r\n",
    "        )\r\n",
    "    model.fit(X_train, df_train[\"CATEGORY\"])\r\n",
    "    pred_valid = model.predict(X_valid)\r\n",
    "    accuracy_valid = accuracy_score(df_valid[\"CATEGORY\"], pred_valid)\r\n",
    "    return accuracy_valid"
   ],
   "outputs": [],
   "metadata": {}
  },
  {
   "cell_type": "code",
   "execution_count": 223,
   "source": [
    "study = optuna.create_study(direction='maximize')\r\n",
    "study.optimize(objective_lg, timeout=120)\r\n",
    "trial = study.best_trial\r\n",
    "trial"
   ],
   "outputs": [
    {
     "output_type": "stream",
     "name": "stderr",
     "text": [
      "\u001b[32m[I 2021-08-04 00:52:10,653]\u001b[0m A new study created in memory with name: no-name-9bcf8c16-6c8d-4ff8-9c8e-5591880ec1d4\u001b[0m\n",
      "\u001b[32m[I 2021-08-04 00:52:17,112]\u001b[0m Trial 0 finished with value: 0.8793103448275862 and parameters: {'l1_ratio': 0.3052599590590047, 'C': 1.3115147477133606}. Best is trial 0 with value: 0.8793103448275862.\u001b[0m\n",
      "\u001b[32m[I 2021-08-04 00:52:22,806]\u001b[0m Trial 1 finished with value: 0.8748125937031485 and parameters: {'l1_ratio': 0.24522490924595697, 'C': 0.9491009016453744}. Best is trial 0 with value: 0.8793103448275862.\u001b[0m\n",
      "\u001b[32m[I 2021-08-04 00:52:27,559]\u001b[0m Trial 2 finished with value: 0.863568215892054 and parameters: {'l1_ratio': 0.963534397802527, 'C': 1.3515525314346295}. Best is trial 0 with value: 0.8793103448275862.\u001b[0m\n",
      "\u001b[32m[I 2021-08-04 00:52:28,405]\u001b[0m Trial 3 finished with value: 0.8103448275862069 and parameters: {'l1_ratio': 0.9543672213270494, 'C': 0.4314029295127988}. Best is trial 0 with value: 0.8793103448275862.\u001b[0m\n",
      "\u001b[32m[I 2021-08-04 00:52:40,292]\u001b[0m Trial 4 finished with value: 0.8943028485757122 and parameters: {'l1_ratio': 0.21544783459156092, 'C': 1.9873594633669744}. Best is trial 4 with value: 0.8943028485757122.\u001b[0m\n",
      "\u001b[32m[I 2021-08-04 00:52:45,613]\u001b[0m Trial 5 finished with value: 0.8695652173913043 and parameters: {'l1_ratio': 0.8822682423216194, 'C': 1.8791743483033783}. Best is trial 4 with value: 0.8943028485757122.\u001b[0m\n",
      "\u001b[32m[I 2021-08-04 00:52:46,161]\u001b[0m Trial 6 finished with value: 0.7458770614692654 and parameters: {'l1_ratio': 0.36893290281789726, 'C': 0.1323305975069421}. Best is trial 4 with value: 0.8943028485757122.\u001b[0m\n",
      "\u001b[32m[I 2021-08-04 00:52:49,899]\u001b[0m Trial 7 finished with value: 0.8740629685157422 and parameters: {'l1_ratio': 0.3584971244644293, 'C': 0.9899891100968209}. Best is trial 4 with value: 0.8943028485757122.\u001b[0m\n",
      "\u001b[32m[I 2021-08-04 00:52:56,143]\u001b[0m Trial 8 finished with value: 0.861319340329835 and parameters: {'l1_ratio': 0.9797894122348269, 'C': 1.378462127142537}. Best is trial 4 with value: 0.8943028485757122.\u001b[0m\n",
      "\u001b[32m[I 2021-08-04 00:52:59,259]\u001b[0m Trial 9 finished with value: 0.8650674662668666 and parameters: {'l1_ratio': 0.9209735387212866, 'C': 1.300838470461107}. Best is trial 4 with value: 0.8943028485757122.\u001b[0m\n",
      "\u001b[32m[I 2021-08-04 00:53:29,482]\u001b[0m Trial 10 finished with value: 0.8958020989505248 and parameters: {'l1_ratio': 0.001219332161190051, 'C': 1.9018869495849327}. Best is trial 10 with value: 0.8958020989505248.\u001b[0m\n",
      "\u001b[32m[I 2021-08-04 00:53:52,077]\u001b[0m Trial 11 finished with value: 0.8935532233883059 and parameters: {'l1_ratio': 0.04763297222847422, 'C': 1.9628347332793867}. Best is trial 10 with value: 0.8958020989505248.\u001b[0m\n",
      "\u001b[32m[I 2021-08-04 00:54:13,409]\u001b[0m Trial 12 finished with value: 0.8905547226386806 and parameters: {'l1_ratio': 0.054025538711920035, 'C': 1.7376844364483586}. Best is trial 10 with value: 0.8958020989505248.\u001b[0m\n"
     ]
    },
    {
     "output_type": "execute_result",
     "data": {
      "text/plain": [
       "FrozenTrial(number=10, values=[0.8958020989505248], datetime_start=datetime.datetime(2021, 8, 4, 0, 52, 59, 260650), datetime_complete=datetime.datetime(2021, 8, 4, 0, 53, 29, 482679), params={'l1_ratio': 0.001219332161190051, 'C': 1.9018869495849327}, distributions={'l1_ratio': UniformDistribution(high=1.0, low=0.0), 'C': UniformDistribution(high=2.0, low=0.1)}, user_attrs={}, system_attrs={}, intermediate_values={}, trial_id=10, state=TrialState.COMPLETE, value=None)"
      ]
     },
     "metadata": {},
     "execution_count": 223
    }
   ],
   "metadata": {}
  },
  {
   "cell_type": "code",
   "execution_count": 224,
   "source": [
    "l1_ratio = trial.params[\"l1_ratio\"]\r\n",
    "C = trial.params[\"C\"]\r\n",
    "model = LogisticRegression(\r\n",
    "    random_state=123, \r\n",
    "    max_iter=10000, \r\n",
    "    C=C,\r\n",
    "    l1_ratio=l1_ratio, \r\n",
    "    penalty='elasticnet',\r\n",
    "    solver='saga'\r\n",
    "    )\r\n",
    "model.fit(X_train, df_train[\"CATEGORY\"])\r\n",
    "\r\n",
    "pred_train = model.predict(X_train)\r\n",
    "pred_valid = model.predict(X_valid)\r\n",
    "pred_test = model.predict(X_test)\r\n",
    "\r\n",
    "accuracy_train = accuracy_score(df_train[\"CATEGORY\"], pred_train)\r\n",
    "accuracy_valid = accuracy_score(df_valid[\"CATEGORY\"], pred_valid)\r\n",
    "accuracy_test = accuracy_score(df_test[\"CATEGORY\"], pred_test)\r\n",
    "pd.DataFrame([\r\n",
    "    accuracy_train,\r\n",
    "    accuracy_valid,\r\n",
    "    accuracy_test\r\n",
    "],index=[\"train\",\"valid\",\"test\"])"
   ],
   "outputs": [
    {
     "output_type": "execute_result",
     "data": {
      "text/plain": [
       "              0\n",
       "train  0.976387\n",
       "valid  0.895802\n",
       "test   0.907796"
      ],
      "text/html": [
       "<div>\n",
       "<style scoped>\n",
       "    .dataframe tbody tr th:only-of-type {\n",
       "        vertical-align: middle;\n",
       "    }\n",
       "\n",
       "    .dataframe tbody tr th {\n",
       "        vertical-align: top;\n",
       "    }\n",
       "\n",
       "    .dataframe thead th {\n",
       "        text-align: right;\n",
       "    }\n",
       "</style>\n",
       "<table border=\"1\" class=\"dataframe\">\n",
       "  <thead>\n",
       "    <tr style=\"text-align: right;\">\n",
       "      <th></th>\n",
       "      <th>0</th>\n",
       "    </tr>\n",
       "  </thead>\n",
       "  <tbody>\n",
       "    <tr>\n",
       "      <th>train</th>\n",
       "      <td>0.976387</td>\n",
       "    </tr>\n",
       "    <tr>\n",
       "      <th>valid</th>\n",
       "      <td>0.895802</td>\n",
       "    </tr>\n",
       "    <tr>\n",
       "      <th>test</th>\n",
       "      <td>0.907796</td>\n",
       "    </tr>\n",
       "  </tbody>\n",
       "</table>\n",
       "</div>"
      ]
     },
     "metadata": {},
     "execution_count": 224
    }
   ],
   "metadata": {}
  },
  {
   "cell_type": "markdown",
   "source": [
    "### SVM"
   ],
   "metadata": {}
  },
  {
   "cell_type": "code",
   "execution_count": 225,
   "source": [
    "def objective_svm(trial):\r\n",
    "    C = trial.suggest_uniform(\"C\", 0.1, 2)\r\n",
    "    model = SVC(\r\n",
    "        C=C,\r\n",
    "        kernel=\"linear\",\r\n",
    "        random_state=None\r\n",
    "    )\r\n",
    "    model.fit(X_train, df_train[\"CATEGORY\"])\r\n",
    "    pred_valid = model.predict(X_valid)\r\n",
    "    accuracy_valid = accuracy_score(df_valid[\"CATEGORY\"], pred_valid)\r\n",
    "    return accuracy_valid"
   ],
   "outputs": [],
   "metadata": {}
  },
  {
   "cell_type": "code",
   "execution_count": 226,
   "source": [
    "study = optuna.create_study(direction='maximize')\r\n",
    "study.optimize(objective_svm, timeout=120)\r\n",
    "trial = study.best_trial\r\n",
    "trial"
   ],
   "outputs": [
    {
     "output_type": "stream",
     "name": "stderr",
     "text": [
      "\u001b[32m[I 2021-08-04 00:54:43,778]\u001b[0m A new study created in memory with name: no-name-777578d3-f854-49a9-9560-edacd8af21f5\u001b[0m\n",
      "\u001b[32m[I 2021-08-04 00:54:50,863]\u001b[0m Trial 0 finished with value: 0.8950524737631185 and parameters: {'C': 0.7283131870605415}. Best is trial 0 with value: 0.8950524737631185.\u001b[0m\n",
      "\u001b[32m[I 2021-08-04 00:54:57,841]\u001b[0m Trial 1 finished with value: 0.9115442278860569 and parameters: {'C': 1.4064350016011882}. Best is trial 1 with value: 0.9115442278860569.\u001b[0m\n",
      "\u001b[32m[I 2021-08-04 00:55:06,076]\u001b[0m Trial 2 finished with value: 0.8598200899550225 and parameters: {'C': 0.22088877655455572}. Best is trial 1 with value: 0.9115442278860569.\u001b[0m\n",
      "\u001b[32m[I 2021-08-04 00:55:13,552]\u001b[0m Trial 3 finished with value: 0.8785607196401799 and parameters: {'C': 0.43726290405700263}. Best is trial 1 with value: 0.9115442278860569.\u001b[0m\n",
      "\u001b[32m[I 2021-08-04 00:55:20,761]\u001b[0m Trial 4 finished with value: 0.8943028485757122 and parameters: {'C': 0.6065371270704762}. Best is trial 1 with value: 0.9115442278860569.\u001b[0m\n",
      "\u001b[32m[I 2021-08-04 00:55:27,702]\u001b[0m Trial 5 finished with value: 0.9115442278860569 and parameters: {'C': 1.4134448587471713}. Best is trial 1 with value: 0.9115442278860569.\u001b[0m\n",
      "\u001b[32m[I 2021-08-04 00:55:35,064]\u001b[0m Trial 6 finished with value: 0.8875562218890555 and parameters: {'C': 0.4951232877702827}. Best is trial 1 with value: 0.9115442278860569.\u001b[0m\n",
      "\u001b[32m[I 2021-08-04 00:55:42,278]\u001b[0m Trial 7 finished with value: 0.8943028485757122 and parameters: {'C': 0.6129331644885848}. Best is trial 1 with value: 0.9115442278860569.\u001b[0m\n",
      "\u001b[32m[I 2021-08-04 00:55:49,097]\u001b[0m Trial 8 finished with value: 0.9100449775112444 and parameters: {'C': 1.976635381643067}. Best is trial 1 with value: 0.9115442278860569.\u001b[0m\n",
      "\u001b[32m[I 2021-08-04 00:55:56,299]\u001b[0m Trial 9 finished with value: 0.8943028485757122 and parameters: {'C': 0.6146809228854336}. Best is trial 1 with value: 0.9115442278860569.\u001b[0m\n",
      "\u001b[32m[I 2021-08-04 00:56:03,278]\u001b[0m Trial 10 finished with value: 0.9122938530734632 and parameters: {'C': 1.3378477382130605}. Best is trial 10 with value: 0.9122938530734632.\u001b[0m\n",
      "\u001b[32m[I 2021-08-04 00:56:10,243]\u001b[0m Trial 11 finished with value: 0.9122938530734632 and parameters: {'C': 1.3373915841868822}. Best is trial 10 with value: 0.9122938530734632.\u001b[0m\n",
      "\u001b[32m[I 2021-08-04 00:56:17,272]\u001b[0m Trial 12 finished with value: 0.9130434782608695 and parameters: {'C': 1.275057539561717}. Best is trial 12 with value: 0.9130434782608695.\u001b[0m\n",
      "\u001b[32m[I 2021-08-04 00:56:24,232]\u001b[0m Trial 13 finished with value: 0.9100449775112444 and parameters: {'C': 1.054282095232474}. Best is trial 12 with value: 0.9130434782608695.\u001b[0m\n",
      "\u001b[32m[I 2021-08-04 00:56:31,146]\u001b[0m Trial 14 finished with value: 0.9115442278860569 and parameters: {'C': 1.7791093766527037}. Best is trial 12 with value: 0.9130434782608695.\u001b[0m\n",
      "\u001b[32m[I 2021-08-04 00:56:38,170]\u001b[0m Trial 15 finished with value: 0.9115442278860569 and parameters: {'C': 1.0793714036470363}. Best is trial 12 with value: 0.9130434782608695.\u001b[0m\n",
      "\u001b[32m[I 2021-08-04 00:56:45,146]\u001b[0m Trial 16 finished with value: 0.9122938530734632 and parameters: {'C': 1.6521448745193168}. Best is trial 12 with value: 0.9130434782608695.\u001b[0m\n"
     ]
    },
    {
     "output_type": "execute_result",
     "data": {
      "text/plain": [
       "FrozenTrial(number=12, values=[0.9130434782608695], datetime_start=datetime.datetime(2021, 8, 4, 0, 56, 10, 244828), datetime_complete=datetime.datetime(2021, 8, 4, 0, 56, 17, 272022), params={'C': 1.275057539561717}, distributions={'C': UniformDistribution(high=2.0, low=0.1)}, user_attrs={}, system_attrs={}, intermediate_values={}, trial_id=12, state=TrialState.COMPLETE, value=None)"
      ]
     },
     "metadata": {},
     "execution_count": 226
    }
   ],
   "metadata": {}
  },
  {
   "cell_type": "code",
   "execution_count": 227,
   "source": [
    "C = trial.params[\"C\"]\r\n",
    "model = SVC(\r\n",
    "    C=C,\r\n",
    "    kernel=\"linear\",\r\n",
    "    random_state=None\r\n",
    ")\r\n",
    "model.fit(X_train, df_train[\"CATEGORY\"])\r\n",
    "\r\n",
    "pred_train = model.predict(X_train)\r\n",
    "pred_valid = model.predict(X_valid)\r\n",
    "pred_test = model.predict(X_test)\r\n",
    "\r\n",
    "accuracy_train = accuracy_score(df_train[\"CATEGORY\"], pred_train)\r\n",
    "accuracy_valid = accuracy_score(df_valid[\"CATEGORY\"], pred_valid)\r\n",
    "accuracy_test = accuracy_score(df_test[\"CATEGORY\"], pred_test)\r\n",
    "pd.DataFrame([\r\n",
    "    accuracy_train,\r\n",
    "    accuracy_valid,\r\n",
    "    accuracy_test\r\n",
    "],index=[\"train\",\"valid\",\"test\"])"
   ],
   "outputs": [
    {
     "output_type": "execute_result",
     "data": {
      "text/plain": [
       "              0\n",
       "train  0.987350\n",
       "valid  0.913043\n",
       "test   0.928786"
      ],
      "text/html": [
       "<div>\n",
       "<style scoped>\n",
       "    .dataframe tbody tr th:only-of-type {\n",
       "        vertical-align: middle;\n",
       "    }\n",
       "\n",
       "    .dataframe tbody tr th {\n",
       "        vertical-align: top;\n",
       "    }\n",
       "\n",
       "    .dataframe thead th {\n",
       "        text-align: right;\n",
       "    }\n",
       "</style>\n",
       "<table border=\"1\" class=\"dataframe\">\n",
       "  <thead>\n",
       "    <tr style=\"text-align: right;\">\n",
       "      <th></th>\n",
       "      <th>0</th>\n",
       "    </tr>\n",
       "  </thead>\n",
       "  <tbody>\n",
       "    <tr>\n",
       "      <th>train</th>\n",
       "      <td>0.987350</td>\n",
       "    </tr>\n",
       "    <tr>\n",
       "      <th>valid</th>\n",
       "      <td>0.913043</td>\n",
       "    </tr>\n",
       "    <tr>\n",
       "      <th>test</th>\n",
       "      <td>0.928786</td>\n",
       "    </tr>\n",
       "  </tbody>\n",
       "</table>\n",
       "</div>"
      ]
     },
     "metadata": {},
     "execution_count": 227
    }
   ],
   "metadata": {}
  }
 ],
 "metadata": {
  "orig_nbformat": 4,
  "language_info": {
   "name": "python",
   "version": "3.8.3",
   "mimetype": "text/x-python",
   "codemirror_mode": {
    "name": "ipython",
    "version": 3
   },
   "pygments_lexer": "ipython3",
   "nbconvert_exporter": "python",
   "file_extension": ".py"
  },
  "kernelspec": {
   "name": "python3",
   "display_name": "Python 3.8.3 64-bit ('base': conda)"
  },
  "interpreter": {
   "hash": "173319109fbdc3b9e6669d3e6b9b4c0d8de214a81d3d8a11fbee43e8362bce4b"
  }
 },
 "nbformat": 4,
 "nbformat_minor": 2
}