{
 "cells": [
  {
   "cell_type": "markdown",
   "source": [
    "<a href=\"https://colab.research.google.com/github/tktkbohshi/m1_study_nlp100practices/blob/main/M1_NLP_100practices.ipynb\" target=\"_parent\"><img src=\"https://colab.research.google.com/assets/colab-badge.svg\" alt=\"Open In Colab\"/></a>"
   ],
   "metadata": {}
  },
  {
   "cell_type": "markdown",
   "source": [
    "## Imports"
   ],
   "metadata": {}
  },
  {
   "cell_type": "code",
   "execution_count": 162,
   "source": [
    "import pandas as pd\r\n",
    "import numpy as np\r\n",
    "from tqdm import tqdm\r\n",
    "from sklearn.model_selection import train_test_split\r\n",
    "from sklearn.feature_extraction.text import TfidfVectorizer\r\n",
    "from sklearn.linear_model import LogisticRegression\r\n",
    "from sklearn.metrics import accuracy_score\r\n",
    "from sklearn.metrics import confusion_matrix\r\n",
    "from sklearn.metrics import precision_score, recall_score, f1_score\r\n",
    "import plotly.graph_objects as go"
   ],
   "outputs": [],
   "metadata": {}
  },
  {
   "cell_type": "markdown",
   "source": [
    "# 第6章: 機械学習\r\n",
    "本章では，Fabio Gasparetti氏が公開しているNews Aggregator Data Setを用い，ニュース記事の見出しを「ビジネス」「科学技術」「エンターテイメント」「健康」のカテゴリに分類するタスク（カテゴリ分類）に取り組む．"
   ],
   "metadata": {}
  },
  {
   "cell_type": "markdown",
   "source": [
    "## 50.データの入手・整形\r\n",
    "News Aggregator Data Setをダウンロードし、以下の要領で学習データ（train.txt），検証データ（valid.txt），評価データ（test.txt）を作成せよ．\r\n",
    "1. ダウンロードしたzipファイルを解凍し，readme.txtの説明を読む．\r\n",
    "1. 情報源（publisher）が”Reuters”, “Huffington Post”, “Businessweek”, “Contactmusic.com”, “Daily Mail”の事例（記事）のみを抽出する．\r\n",
    "1. 抽出された事例をランダムに並び替える．\r\n",
    "1. 抽出された事例の80%を学習データ，残りの10%ずつを検証データと評価データに分割し，それぞれtrain.txt，valid.txt，test.txtというファイル名で保存する．ファイルには，１行に１事例を書き出すこととし，カテゴリ名と記事見出しのタブ区切り形式とせよ（このファイルは後に問題70で再利用する）．\r\n",
    "学習データと評価データを作成したら，各カテゴリの事例数を確認せよ．"
   ],
   "metadata": {}
  },
  {
   "cell_type": "markdown",
   "source": [
    "### Datasets detail\r\n",
    "+ ID\t\tNumeric ID\r\n",
    "+ TITLE\t\tNews title \r\n",
    "+ URL\t\tUrl\r\n",
    "+ PUBLISHER\tPublisher name\r\n",
    "+ CATEGORY\tNews category (b = business, t = science and technology, e = entertainment, m = health)\r\n",
    "+ STORY\t\tAlphanumeric ID of the cluster that includes news about the same story\r\n",
    "+ HOSTNAME\tUrl hostname\r\n",
    "+ TIMESTAMP \tApproximate time the news was published, as the number of milliseconds since the epoch 00:00:00 GMT, January 1, 1970"
   ],
   "metadata": {}
  },
  {
   "cell_type": "code",
   "execution_count": 2,
   "source": [
    "columns = [\"ID\",\"TITLE\",\"URL\",\"PUBLISHER\",\"CATEGORY\",\"STORY\",\"HOSTNAME\",\"TIMESTAMP\"]\r\n",
    "df_publisher = pd.read_csv(\"./data/NewsAggregatorDataset/newsCorpora.csv\", names=columns, sep=\"\\t\")\r\n",
    "df_publisher = df_publisher[df_publisher[\"PUBLISHER\"].isin([\"Reuters\", \"Huffington Post\", \"Businessweek\", \"Contactmusic.com\", \"Daily Mail\"])]\r\n",
    "df_publisher = df_publisher.sample(frac=1).reset_index(drop=True)\r\n",
    "df_publisher[\"TITLE\"] = df_publisher[\"TITLE\"].str.lower()\r\n",
    "df_publisher.head(5)"
   ],
   "outputs": [
    {
     "output_type": "execute_result",
     "data": {
      "text/plain": [
       "       ID                                              TITLE  \\\n",
       "0   65200  not another girl! hilarious moment a six-year-...   \n",
       "1  178746  mptf - bosses of the night before the oscars b...   \n",
       "2  273002  musk's tesla to name final gigafactory site ar...   \n",
       "3  131593  raw oysters spike us rise in bacteria infectio...   \n",
       "4  158815  update 2-cash drop in the euro zone adds to im...   \n",
       "\n",
       "                                                 URL         PUBLISHER  \\\n",
       "0  http://www.dailymail.co.uk/femail/article-2591...        Daily Mail   \n",
       "1  http://www.contactmusic.com/story/bosses-of-th...  Contactmusic.com   \n",
       "2  http://www.businessweek.com/news/2014-06-03/mu...      Businessweek   \n",
       "3  http://www.businessweek.com/news/2014-04-17/ra...      Businessweek   \n",
       "4  http://in.reuters.com/article/2014/04/24/ecb-l...           Reuters   \n",
       "\n",
       "  CATEGORY                          STORY              HOSTNAME      TIMESTAMP  \n",
       "0        e  dY3JocJkjWVDL8MpqmyTwyq_EHkjM   www.dailymail.co.uk  1396130769368  \n",
       "1        e  dxdvgkRptuOmHTM5AndyD2BHXMZsM  www.contactmusic.com  1399320392690  \n",
       "2        b  dENUOKJciS7TC6Ml-DZqMjtX7vZnM  www.businessweek.com  1401887989436  \n",
       "3        m  dNRtScuBJlukRSMcbX5ArfzxKH7ZM  www.businessweek.com  1397780060938  \n",
       "4        b  diuBb8GaScP3H_M08sSdIRHIKRl3M        in.reuters.com  1398391755389  "
      ],
      "text/html": [
       "<div>\n",
       "<style scoped>\n",
       "    .dataframe tbody tr th:only-of-type {\n",
       "        vertical-align: middle;\n",
       "    }\n",
       "\n",
       "    .dataframe tbody tr th {\n",
       "        vertical-align: top;\n",
       "    }\n",
       "\n",
       "    .dataframe thead th {\n",
       "        text-align: right;\n",
       "    }\n",
       "</style>\n",
       "<table border=\"1\" class=\"dataframe\">\n",
       "  <thead>\n",
       "    <tr style=\"text-align: right;\">\n",
       "      <th></th>\n",
       "      <th>ID</th>\n",
       "      <th>TITLE</th>\n",
       "      <th>URL</th>\n",
       "      <th>PUBLISHER</th>\n",
       "      <th>CATEGORY</th>\n",
       "      <th>STORY</th>\n",
       "      <th>HOSTNAME</th>\n",
       "      <th>TIMESTAMP</th>\n",
       "    </tr>\n",
       "  </thead>\n",
       "  <tbody>\n",
       "    <tr>\n",
       "      <th>0</th>\n",
       "      <td>65200</td>\n",
       "      <td>not another girl! hilarious moment a six-year-...</td>\n",
       "      <td>http://www.dailymail.co.uk/femail/article-2591...</td>\n",
       "      <td>Daily Mail</td>\n",
       "      <td>e</td>\n",
       "      <td>dY3JocJkjWVDL8MpqmyTwyq_EHkjM</td>\n",
       "      <td>www.dailymail.co.uk</td>\n",
       "      <td>1396130769368</td>\n",
       "    </tr>\n",
       "    <tr>\n",
       "      <th>1</th>\n",
       "      <td>178746</td>\n",
       "      <td>mptf - bosses of the night before the oscars b...</td>\n",
       "      <td>http://www.contactmusic.com/story/bosses-of-th...</td>\n",
       "      <td>Contactmusic.com</td>\n",
       "      <td>e</td>\n",
       "      <td>dxdvgkRptuOmHTM5AndyD2BHXMZsM</td>\n",
       "      <td>www.contactmusic.com</td>\n",
       "      <td>1399320392690</td>\n",
       "    </tr>\n",
       "    <tr>\n",
       "      <th>2</th>\n",
       "      <td>273002</td>\n",
       "      <td>musk's tesla to name final gigafactory site ar...</td>\n",
       "      <td>http://www.businessweek.com/news/2014-06-03/mu...</td>\n",
       "      <td>Businessweek</td>\n",
       "      <td>b</td>\n",
       "      <td>dENUOKJciS7TC6Ml-DZqMjtX7vZnM</td>\n",
       "      <td>www.businessweek.com</td>\n",
       "      <td>1401887989436</td>\n",
       "    </tr>\n",
       "    <tr>\n",
       "      <th>3</th>\n",
       "      <td>131593</td>\n",
       "      <td>raw oysters spike us rise in bacteria infectio...</td>\n",
       "      <td>http://www.businessweek.com/news/2014-04-17/ra...</td>\n",
       "      <td>Businessweek</td>\n",
       "      <td>m</td>\n",
       "      <td>dNRtScuBJlukRSMcbX5ArfzxKH7ZM</td>\n",
       "      <td>www.businessweek.com</td>\n",
       "      <td>1397780060938</td>\n",
       "    </tr>\n",
       "    <tr>\n",
       "      <th>4</th>\n",
       "      <td>158815</td>\n",
       "      <td>update 2-cash drop in the euro zone adds to im...</td>\n",
       "      <td>http://in.reuters.com/article/2014/04/24/ecb-l...</td>\n",
       "      <td>Reuters</td>\n",
       "      <td>b</td>\n",
       "      <td>diuBb8GaScP3H_M08sSdIRHIKRl3M</td>\n",
       "      <td>in.reuters.com</td>\n",
       "      <td>1398391755389</td>\n",
       "    </tr>\n",
       "  </tbody>\n",
       "</table>\n",
       "</div>"
      ]
     },
     "metadata": {},
     "execution_count": 2
    }
   ],
   "metadata": {}
  },
  {
   "cell_type": "code",
   "execution_count": 3,
   "source": [
    "df_train = df_publisher[0:int(len(df_publisher)*0.8)]\r\n",
    "df_valid = df_publisher[int(len(df_publisher)*0.8):int(len(df_publisher)*0.9)]\r\n",
    "df_test = df_publisher[int(len(df_publisher)*0.9):int(len(df_publisher))]\r\n",
    "df_train.to_csv(\"./data/outputs/train.txt\",sep=\"\\t\", index=False)\r\n",
    "df_valid.to_csv(\"./data/outputs/valid.txt\",sep=\"\\t\", index=False)\r\n",
    "df_test.to_csv(\"./data/outputs/test.txt\",sep=\"\\t\", index=False)"
   ],
   "outputs": [],
   "metadata": {}
  },
  {
   "cell_type": "markdown",
   "source": [
    "## 51.特徴量抽出"
   ],
   "metadata": {}
  },
  {
   "cell_type": "code",
   "execution_count": 147,
   "source": [
    "tfidf_vec = TfidfVectorizer()\r\n",
    "X_train = tfidf_vec.fit_transform(df_train[\"TITLE\"])\r\n",
    "X_test = tfidf_vec.transform(df_test[\"TITLE\"])\r\n",
    "X_valid = tfidf_vec.transform(df_valid[\"TITLE\"])"
   ],
   "outputs": [],
   "metadata": {}
  },
  {
   "cell_type": "markdown",
   "source": [
    "## 52.学習"
   ],
   "metadata": {}
  },
  {
   "cell_type": "code",
   "execution_count": 5,
   "source": [
    "model = LogisticRegression(random_state=123, max_iter=10000)\r\n",
    "model.fit(X_train, df_train[\"CATEGORY\"])"
   ],
   "outputs": [
    {
     "output_type": "execute_result",
     "data": {
      "text/plain": [
       "LogisticRegression(max_iter=10000, random_state=123)"
      ]
     },
     "metadata": {},
     "execution_count": 5
    }
   ],
   "metadata": {}
  },
  {
   "cell_type": "markdown",
   "source": [
    "## 53.予測"
   ],
   "metadata": {}
  },
  {
   "cell_type": "code",
   "execution_count": 6,
   "source": [
    "pred_train = model.predict(X_train)\r\n",
    "pred_test = model.predict(X_test)"
   ],
   "outputs": [],
   "metadata": {}
  },
  {
   "cell_type": "markdown",
   "source": [
    "## 54.正解率の計測"
   ],
   "metadata": {}
  },
  {
   "cell_type": "code",
   "execution_count": 7,
   "source": [
    "accuracy_train = accuracy_score(df_train[\"CATEGORY\"], pred_train)\r\n",
    "accuracy_test = accuracy_score(df_test[\"CATEGORY\"], pred_test)\r\n",
    "accuracy_train, accuracy_test"
   ],
   "outputs": [
    {
     "output_type": "execute_result",
     "data": {
      "text/plain": [
       "(0.9444340329835083, 0.8980509745127436)"
      ]
     },
     "metadata": {},
     "execution_count": 7
    }
   ],
   "metadata": {}
  },
  {
   "cell_type": "markdown",
   "source": [
    "## 55.混同行列の作成"
   ],
   "metadata": {}
  },
  {
   "cell_type": "code",
   "execution_count": 8,
   "source": [
    "labels = df_train[\"CATEGORY\"].unique()\r\n",
    "labels"
   ],
   "outputs": [
    {
     "output_type": "execute_result",
     "data": {
      "text/plain": [
       "array(['e', 'b', 'm', 't'], dtype=object)"
      ]
     },
     "metadata": {},
     "execution_count": 8
    }
   ],
   "metadata": {}
  },
  {
   "cell_type": "code",
   "execution_count": 9,
   "source": [
    "confusion_matrix(df_train[\"CATEGORY\"], pred_train)"
   ],
   "outputs": [
    {
     "output_type": "execute_result",
     "data": {
      "text/plain": [
       "array([[4419,   60,    2,   30],\n",
       "       [  18, 4182,    0,    6],\n",
       "       [  86,  129,  491,    6],\n",
       "       [ 148,  105,    3,  987]], dtype=int64)"
      ]
     },
     "metadata": {},
     "execution_count": 9
    }
   ],
   "metadata": {}
  },
  {
   "cell_type": "markdown",
   "source": [
    "## 56.適合率，再現率，F1スコアの計測"
   ],
   "metadata": {}
  },
  {
   "cell_type": "code",
   "execution_count": 10,
   "source": [
    "precision = precision_score(df_test[\"CATEGORY\"], pred_test, average=None, labels=labels)\r\n",
    "precision"
   ],
   "outputs": [
    {
     "output_type": "execute_result",
     "data": {
      "text/plain": [
       "array([0.89347079, 0.8956229 , 0.98214286, 0.89215686])"
      ]
     },
     "metadata": {},
     "execution_count": 10
    }
   ],
   "metadata": {}
  },
  {
   "cell_type": "code",
   "execution_count": 11,
   "source": [
    "recall = recall_score(df_test[\"CATEGORY\"], pred_test, average=None, labels=labels)\r\n",
    "recall"
   ],
   "outputs": [
    {
     "output_type": "execute_result",
     "data": {
      "text/plain": [
       "array([0.97196262, 0.96202532, 0.53921569, 0.63194444])"
      ]
     },
     "metadata": {},
     "execution_count": 11
    }
   ],
   "metadata": {}
  },
  {
   "cell_type": "code",
   "execution_count": 12,
   "source": [
    "f1 = f1_score(df_test[\"CATEGORY\"], pred_test, average=None, labels=labels)\r\n",
    "f1"
   ],
   "outputs": [
    {
     "output_type": "execute_result",
     "data": {
      "text/plain": [
       "array([0.93106535, 0.92763731, 0.69620253, 0.7398374 ])"
      ]
     },
     "metadata": {},
     "execution_count": 12
    }
   ],
   "metadata": {}
  },
  {
   "cell_type": "code",
   "execution_count": 13,
   "source": [
    "df_eval = pd.DataFrame({\"Precision\":precision,\"Recall\":recall,\"F1\":f1},index=labels)\r\n",
    "df_eval.loc[\"マイクロ平均\"] = [\r\n",
    "    precision_score(df_test[\"CATEGORY\"], pred_test, average=\"micro\", labels=labels),\r\n",
    "    recall_score(df_test[\"CATEGORY\"], pred_test, average=\"micro\", labels=labels),\r\n",
    "    f1_score(df_test[\"CATEGORY\"], pred_test, average=\"micro\", labels=labels)\r\n",
    "    ]\r\n",
    "df_eval.loc[\"マクロ平均\"] = [\r\n",
    "    precision_score(df_test[\"CATEGORY\"], pred_test, average=\"macro\", labels=labels),\r\n",
    "    recall_score(df_test[\"CATEGORY\"], pred_test, average=\"macro\", labels=labels),\r\n",
    "    f1_score(df_test[\"CATEGORY\"], pred_test, average=\"macro\", labels=labels)\r\n",
    "    ]\r\n",
    "df_eval"
   ],
   "outputs": [
    {
     "output_type": "execute_result",
     "data": {
      "text/plain": [
       "        Precision    Recall        F1\n",
       "e        0.893471  0.971963  0.931065\n",
       "b        0.895623  0.962025  0.927637\n",
       "m        0.982143  0.539216  0.696203\n",
       "t        0.892157  0.631944  0.739837\n",
       "マイクロ平均   0.898051  0.898051  0.898051\n",
       "マクロ平均    0.915848  0.776287  0.823686"
      ],
      "text/html": [
       "<div>\n",
       "<style scoped>\n",
       "    .dataframe tbody tr th:only-of-type {\n",
       "        vertical-align: middle;\n",
       "    }\n",
       "\n",
       "    .dataframe tbody tr th {\n",
       "        vertical-align: top;\n",
       "    }\n",
       "\n",
       "    .dataframe thead th {\n",
       "        text-align: right;\n",
       "    }\n",
       "</style>\n",
       "<table border=\"1\" class=\"dataframe\">\n",
       "  <thead>\n",
       "    <tr style=\"text-align: right;\">\n",
       "      <th></th>\n",
       "      <th>Precision</th>\n",
       "      <th>Recall</th>\n",
       "      <th>F1</th>\n",
       "    </tr>\n",
       "  </thead>\n",
       "  <tbody>\n",
       "    <tr>\n",
       "      <th>e</th>\n",
       "      <td>0.893471</td>\n",
       "      <td>0.971963</td>\n",
       "      <td>0.931065</td>\n",
       "    </tr>\n",
       "    <tr>\n",
       "      <th>b</th>\n",
       "      <td>0.895623</td>\n",
       "      <td>0.962025</td>\n",
       "      <td>0.927637</td>\n",
       "    </tr>\n",
       "    <tr>\n",
       "      <th>m</th>\n",
       "      <td>0.982143</td>\n",
       "      <td>0.539216</td>\n",
       "      <td>0.696203</td>\n",
       "    </tr>\n",
       "    <tr>\n",
       "      <th>t</th>\n",
       "      <td>0.892157</td>\n",
       "      <td>0.631944</td>\n",
       "      <td>0.739837</td>\n",
       "    </tr>\n",
       "    <tr>\n",
       "      <th>マイクロ平均</th>\n",
       "      <td>0.898051</td>\n",
       "      <td>0.898051</td>\n",
       "      <td>0.898051</td>\n",
       "    </tr>\n",
       "    <tr>\n",
       "      <th>マクロ平均</th>\n",
       "      <td>0.915848</td>\n",
       "      <td>0.776287</td>\n",
       "      <td>0.823686</td>\n",
       "    </tr>\n",
       "  </tbody>\n",
       "</table>\n",
       "</div>"
      ]
     },
     "metadata": {},
     "execution_count": 13
    }
   ],
   "metadata": {}
  },
  {
   "cell_type": "markdown",
   "source": [
    "## 57.特徴量の重みの確認"
   ],
   "metadata": {}
  },
  {
   "cell_type": "code",
   "execution_count": 42,
   "source": [
    "df_X_train = pd.DataFrame(X_train.toarray(), columns=tfidf_vec.get_feature_names())\r\n",
    "df_X_test = pd.DataFrame(X_test.toarray(), columns=tfidf_vec.get_feature_names())\r\n",
    "df_X_train.head(3)"
   ],
   "outputs": [
    {
     "output_type": "execute_result",
     "data": {
      "text/plain": [
       "    00   07   08   09  0ff  0ut   10  100  1000  10000  ...  zone  zooey  \\\n",
       "0  0.0  0.0  0.0  0.0  0.0  0.0  0.0  0.0   0.0    0.0  ...   0.0    0.0   \n",
       "1  0.0  0.0  0.0  0.0  0.0  0.0  0.0  0.0   0.0    0.0  ...   0.0    0.0   \n",
       "2  0.0  0.0  0.0  0.0  0.0  0.0  0.0  0.0   0.0    0.0  ...   0.0    0.0   \n",
       "\n",
       "   zoosk  zuckerberg  zynga   zâ   œf  œlousyâ  œpiece  œwaist  \n",
       "0    0.0         0.0    0.0  0.0  0.0      0.0     0.0     0.0  \n",
       "1    0.0         0.0    0.0  0.0  0.0      0.0     0.0     0.0  \n",
       "2    0.0         0.0    0.0  0.0  0.0      0.0     0.0     0.0  \n",
       "\n",
       "[3 rows x 12780 columns]"
      ],
      "text/html": [
       "<div>\n",
       "<style scoped>\n",
       "    .dataframe tbody tr th:only-of-type {\n",
       "        vertical-align: middle;\n",
       "    }\n",
       "\n",
       "    .dataframe tbody tr th {\n",
       "        vertical-align: top;\n",
       "    }\n",
       "\n",
       "    .dataframe thead th {\n",
       "        text-align: right;\n",
       "    }\n",
       "</style>\n",
       "<table border=\"1\" class=\"dataframe\">\n",
       "  <thead>\n",
       "    <tr style=\"text-align: right;\">\n",
       "      <th></th>\n",
       "      <th>00</th>\n",
       "      <th>07</th>\n",
       "      <th>08</th>\n",
       "      <th>09</th>\n",
       "      <th>0ff</th>\n",
       "      <th>0ut</th>\n",
       "      <th>10</th>\n",
       "      <th>100</th>\n",
       "      <th>1000</th>\n",
       "      <th>10000</th>\n",
       "      <th>...</th>\n",
       "      <th>zone</th>\n",
       "      <th>zooey</th>\n",
       "      <th>zoosk</th>\n",
       "      <th>zuckerberg</th>\n",
       "      <th>zynga</th>\n",
       "      <th>zâ</th>\n",
       "      <th>œf</th>\n",
       "      <th>œlousyâ</th>\n",
       "      <th>œpiece</th>\n",
       "      <th>œwaist</th>\n",
       "    </tr>\n",
       "  </thead>\n",
       "  <tbody>\n",
       "    <tr>\n",
       "      <th>0</th>\n",
       "      <td>0.0</td>\n",
       "      <td>0.0</td>\n",
       "      <td>0.0</td>\n",
       "      <td>0.0</td>\n",
       "      <td>0.0</td>\n",
       "      <td>0.0</td>\n",
       "      <td>0.0</td>\n",
       "      <td>0.0</td>\n",
       "      <td>0.0</td>\n",
       "      <td>0.0</td>\n",
       "      <td>...</td>\n",
       "      <td>0.0</td>\n",
       "      <td>0.0</td>\n",
       "      <td>0.0</td>\n",
       "      <td>0.0</td>\n",
       "      <td>0.0</td>\n",
       "      <td>0.0</td>\n",
       "      <td>0.0</td>\n",
       "      <td>0.0</td>\n",
       "      <td>0.0</td>\n",
       "      <td>0.0</td>\n",
       "    </tr>\n",
       "    <tr>\n",
       "      <th>1</th>\n",
       "      <td>0.0</td>\n",
       "      <td>0.0</td>\n",
       "      <td>0.0</td>\n",
       "      <td>0.0</td>\n",
       "      <td>0.0</td>\n",
       "      <td>0.0</td>\n",
       "      <td>0.0</td>\n",
       "      <td>0.0</td>\n",
       "      <td>0.0</td>\n",
       "      <td>0.0</td>\n",
       "      <td>...</td>\n",
       "      <td>0.0</td>\n",
       "      <td>0.0</td>\n",
       "      <td>0.0</td>\n",
       "      <td>0.0</td>\n",
       "      <td>0.0</td>\n",
       "      <td>0.0</td>\n",
       "      <td>0.0</td>\n",
       "      <td>0.0</td>\n",
       "      <td>0.0</td>\n",
       "      <td>0.0</td>\n",
       "    </tr>\n",
       "    <tr>\n",
       "      <th>2</th>\n",
       "      <td>0.0</td>\n",
       "      <td>0.0</td>\n",
       "      <td>0.0</td>\n",
       "      <td>0.0</td>\n",
       "      <td>0.0</td>\n",
       "      <td>0.0</td>\n",
       "      <td>0.0</td>\n",
       "      <td>0.0</td>\n",
       "      <td>0.0</td>\n",
       "      <td>0.0</td>\n",
       "      <td>...</td>\n",
       "      <td>0.0</td>\n",
       "      <td>0.0</td>\n",
       "      <td>0.0</td>\n",
       "      <td>0.0</td>\n",
       "      <td>0.0</td>\n",
       "      <td>0.0</td>\n",
       "      <td>0.0</td>\n",
       "      <td>0.0</td>\n",
       "      <td>0.0</td>\n",
       "      <td>0.0</td>\n",
       "    </tr>\n",
       "  </tbody>\n",
       "</table>\n",
       "<p>3 rows × 12780 columns</p>\n",
       "</div>"
      ]
     },
     "metadata": {},
     "execution_count": 42
    }
   ],
   "metadata": {}
  },
  {
   "cell_type": "code",
   "execution_count": 109,
   "source": [
    "df_weights = pd.DataFrame(model.coef_, index=model.classes_, columns=df_X_train.columns).T\r\n",
    "df_weights"
   ],
   "outputs": [
    {
     "output_type": "execute_result",
     "data": {
      "text/plain": [
       "                b         e         m         t\n",
       "00       0.207972 -0.137211 -0.029906 -0.040855\n",
       "07       0.075289 -0.046413 -0.012357 -0.016519\n",
       "08       0.022768 -0.010603 -0.005378 -0.006787\n",
       "09       0.029912 -0.013153 -0.006844 -0.009915\n",
       "0ff     -0.028595  0.063282 -0.018156 -0.016530\n",
       "...           ...       ...       ...       ...\n",
       "zâ      -0.013246  0.053270 -0.014438 -0.025586\n",
       "œf      -0.069415  0.123408 -0.019745 -0.034249\n",
       "œlousyâ -0.056550  0.101371 -0.019855 -0.024966\n",
       "œpiece  -0.087821  0.116799 -0.010400 -0.018578\n",
       "œwaist  -0.013793  0.036080 -0.008262 -0.014025\n",
       "\n",
       "[12780 rows x 4 columns]"
      ],
      "text/html": [
       "<div>\n",
       "<style scoped>\n",
       "    .dataframe tbody tr th:only-of-type {\n",
       "        vertical-align: middle;\n",
       "    }\n",
       "\n",
       "    .dataframe tbody tr th {\n",
       "        vertical-align: top;\n",
       "    }\n",
       "\n",
       "    .dataframe thead th {\n",
       "        text-align: right;\n",
       "    }\n",
       "</style>\n",
       "<table border=\"1\" class=\"dataframe\">\n",
       "  <thead>\n",
       "    <tr style=\"text-align: right;\">\n",
       "      <th></th>\n",
       "      <th>b</th>\n",
       "      <th>e</th>\n",
       "      <th>m</th>\n",
       "      <th>t</th>\n",
       "    </tr>\n",
       "  </thead>\n",
       "  <tbody>\n",
       "    <tr>\n",
       "      <th>00</th>\n",
       "      <td>0.207972</td>\n",
       "      <td>-0.137211</td>\n",
       "      <td>-0.029906</td>\n",
       "      <td>-0.040855</td>\n",
       "    </tr>\n",
       "    <tr>\n",
       "      <th>07</th>\n",
       "      <td>0.075289</td>\n",
       "      <td>-0.046413</td>\n",
       "      <td>-0.012357</td>\n",
       "      <td>-0.016519</td>\n",
       "    </tr>\n",
       "    <tr>\n",
       "      <th>08</th>\n",
       "      <td>0.022768</td>\n",
       "      <td>-0.010603</td>\n",
       "      <td>-0.005378</td>\n",
       "      <td>-0.006787</td>\n",
       "    </tr>\n",
       "    <tr>\n",
       "      <th>09</th>\n",
       "      <td>0.029912</td>\n",
       "      <td>-0.013153</td>\n",
       "      <td>-0.006844</td>\n",
       "      <td>-0.009915</td>\n",
       "    </tr>\n",
       "    <tr>\n",
       "      <th>0ff</th>\n",
       "      <td>-0.028595</td>\n",
       "      <td>0.063282</td>\n",
       "      <td>-0.018156</td>\n",
       "      <td>-0.016530</td>\n",
       "    </tr>\n",
       "    <tr>\n",
       "      <th>...</th>\n",
       "      <td>...</td>\n",
       "      <td>...</td>\n",
       "      <td>...</td>\n",
       "      <td>...</td>\n",
       "    </tr>\n",
       "    <tr>\n",
       "      <th>zâ</th>\n",
       "      <td>-0.013246</td>\n",
       "      <td>0.053270</td>\n",
       "      <td>-0.014438</td>\n",
       "      <td>-0.025586</td>\n",
       "    </tr>\n",
       "    <tr>\n",
       "      <th>œf</th>\n",
       "      <td>-0.069415</td>\n",
       "      <td>0.123408</td>\n",
       "      <td>-0.019745</td>\n",
       "      <td>-0.034249</td>\n",
       "    </tr>\n",
       "    <tr>\n",
       "      <th>œlousyâ</th>\n",
       "      <td>-0.056550</td>\n",
       "      <td>0.101371</td>\n",
       "      <td>-0.019855</td>\n",
       "      <td>-0.024966</td>\n",
       "    </tr>\n",
       "    <tr>\n",
       "      <th>œpiece</th>\n",
       "      <td>-0.087821</td>\n",
       "      <td>0.116799</td>\n",
       "      <td>-0.010400</td>\n",
       "      <td>-0.018578</td>\n",
       "    </tr>\n",
       "    <tr>\n",
       "      <th>œwaist</th>\n",
       "      <td>-0.013793</td>\n",
       "      <td>0.036080</td>\n",
       "      <td>-0.008262</td>\n",
       "      <td>-0.014025</td>\n",
       "    </tr>\n",
       "  </tbody>\n",
       "</table>\n",
       "<p>12780 rows × 4 columns</p>\n",
       "</div>"
      ]
     },
     "metadata": {},
     "execution_count": 109
    }
   ],
   "metadata": {}
  },
  {
   "cell_type": "code",
   "execution_count": 137,
   "source": [
    "df_best10 = pd.DataFrame(index=range(1,10))\r\n",
    "df_worst10 = pd.DataFrame()\r\n",
    "for label in labels:\r\n",
    "  df_best10 = pd.merge(\r\n",
    "    df_best10,\r\n",
    "    pd.DataFrame(df_weights[label].sort_values(ascending=False).head(10).reset_index().set_axis([f\"{label}_word\",f\"{label}_value\"], axis=1)),\r\n",
    "    left_index=True,\r\n",
    "    right_index=True,\r\n",
    "    how=\"outer\"\r\n",
    "  )\r\n",
    "  df_worst10 = pd.merge(\r\n",
    "    df_worst10,\r\n",
    "    pd.DataFrame(df_weights[label].sort_values(ascending=True).head(10).reset_index().set_axis([f\"{label}_word\",f\"{label}_value\"], axis=1)),\r\n",
    "    left_index=True,\r\n",
    "    right_index=True,\r\n",
    "    how=\"outer\"\r\n",
    "  )\r\n",
    "df_best10"
   ],
   "outputs": [
    {
     "output_type": "execute_result",
     "data": {
      "text/plain": [
       "       e_word   e_value   b_word   b_value  m_word   m_value     t_word  \\\n",
       "0  kardashian  3.343597     bank  3.366020   ebola  4.755725     google   \n",
       "1       chris  2.795961    china  3.336268  cancer  3.911757   facebook   \n",
       "2         her  2.697897      fed  3.277741   study  3.871911      apple   \n",
       "3         kim  2.639984      ecb  3.160443     fda  3.385715  microsoft   \n",
       "4         she  2.536047   stocks  2.980106    drug  3.304109    climate   \n",
       "5       miley  2.504986     euro  2.723072    mers  3.244580      tesla   \n",
       "6       cyrus  2.461294  ukraine  2.687300  health  2.513325       nasa   \n",
       "7        star  2.394155      oil  2.650428   could  2.242806         gm   \n",
       "8       movie  2.253061   update  2.638831   cases  2.210906    comcast   \n",
       "9        paul  2.235613   dollar  2.489106   virus  2.186384        fcc   \n",
       "\n",
       "    t_value  \n",
       "0  5.220598  \n",
       "1  4.871147  \n",
       "2  4.606009  \n",
       "3  4.018327  \n",
       "4  3.825137  \n",
       "5  2.938886  \n",
       "6  2.786496  \n",
       "7  2.755585  \n",
       "8  2.535543  \n",
       "9  2.417991  "
      ],
      "text/html": [
       "<div>\n",
       "<style scoped>\n",
       "    .dataframe tbody tr th:only-of-type {\n",
       "        vertical-align: middle;\n",
       "    }\n",
       "\n",
       "    .dataframe tbody tr th {\n",
       "        vertical-align: top;\n",
       "    }\n",
       "\n",
       "    .dataframe thead th {\n",
       "        text-align: right;\n",
       "    }\n",
       "</style>\n",
       "<table border=\"1\" class=\"dataframe\">\n",
       "  <thead>\n",
       "    <tr style=\"text-align: right;\">\n",
       "      <th></th>\n",
       "      <th>e_word</th>\n",
       "      <th>e_value</th>\n",
       "      <th>b_word</th>\n",
       "      <th>b_value</th>\n",
       "      <th>m_word</th>\n",
       "      <th>m_value</th>\n",
       "      <th>t_word</th>\n",
       "      <th>t_value</th>\n",
       "    </tr>\n",
       "  </thead>\n",
       "  <tbody>\n",
       "    <tr>\n",
       "      <th>0</th>\n",
       "      <td>kardashian</td>\n",
       "      <td>3.343597</td>\n",
       "      <td>bank</td>\n",
       "      <td>3.366020</td>\n",
       "      <td>ebola</td>\n",
       "      <td>4.755725</td>\n",
       "      <td>google</td>\n",
       "      <td>5.220598</td>\n",
       "    </tr>\n",
       "    <tr>\n",
       "      <th>1</th>\n",
       "      <td>chris</td>\n",
       "      <td>2.795961</td>\n",
       "      <td>china</td>\n",
       "      <td>3.336268</td>\n",
       "      <td>cancer</td>\n",
       "      <td>3.911757</td>\n",
       "      <td>facebook</td>\n",
       "      <td>4.871147</td>\n",
       "    </tr>\n",
       "    <tr>\n",
       "      <th>2</th>\n",
       "      <td>her</td>\n",
       "      <td>2.697897</td>\n",
       "      <td>fed</td>\n",
       "      <td>3.277741</td>\n",
       "      <td>study</td>\n",
       "      <td>3.871911</td>\n",
       "      <td>apple</td>\n",
       "      <td>4.606009</td>\n",
       "    </tr>\n",
       "    <tr>\n",
       "      <th>3</th>\n",
       "      <td>kim</td>\n",
       "      <td>2.639984</td>\n",
       "      <td>ecb</td>\n",
       "      <td>3.160443</td>\n",
       "      <td>fda</td>\n",
       "      <td>3.385715</td>\n",
       "      <td>microsoft</td>\n",
       "      <td>4.018327</td>\n",
       "    </tr>\n",
       "    <tr>\n",
       "      <th>4</th>\n",
       "      <td>she</td>\n",
       "      <td>2.536047</td>\n",
       "      <td>stocks</td>\n",
       "      <td>2.980106</td>\n",
       "      <td>drug</td>\n",
       "      <td>3.304109</td>\n",
       "      <td>climate</td>\n",
       "      <td>3.825137</td>\n",
       "    </tr>\n",
       "    <tr>\n",
       "      <th>5</th>\n",
       "      <td>miley</td>\n",
       "      <td>2.504986</td>\n",
       "      <td>euro</td>\n",
       "      <td>2.723072</td>\n",
       "      <td>mers</td>\n",
       "      <td>3.244580</td>\n",
       "      <td>tesla</td>\n",
       "      <td>2.938886</td>\n",
       "    </tr>\n",
       "    <tr>\n",
       "      <th>6</th>\n",
       "      <td>cyrus</td>\n",
       "      <td>2.461294</td>\n",
       "      <td>ukraine</td>\n",
       "      <td>2.687300</td>\n",
       "      <td>health</td>\n",
       "      <td>2.513325</td>\n",
       "      <td>nasa</td>\n",
       "      <td>2.786496</td>\n",
       "    </tr>\n",
       "    <tr>\n",
       "      <th>7</th>\n",
       "      <td>star</td>\n",
       "      <td>2.394155</td>\n",
       "      <td>oil</td>\n",
       "      <td>2.650428</td>\n",
       "      <td>could</td>\n",
       "      <td>2.242806</td>\n",
       "      <td>gm</td>\n",
       "      <td>2.755585</td>\n",
       "    </tr>\n",
       "    <tr>\n",
       "      <th>8</th>\n",
       "      <td>movie</td>\n",
       "      <td>2.253061</td>\n",
       "      <td>update</td>\n",
       "      <td>2.638831</td>\n",
       "      <td>cases</td>\n",
       "      <td>2.210906</td>\n",
       "      <td>comcast</td>\n",
       "      <td>2.535543</td>\n",
       "    </tr>\n",
       "    <tr>\n",
       "      <th>9</th>\n",
       "      <td>paul</td>\n",
       "      <td>2.235613</td>\n",
       "      <td>dollar</td>\n",
       "      <td>2.489106</td>\n",
       "      <td>virus</td>\n",
       "      <td>2.186384</td>\n",
       "      <td>fcc</td>\n",
       "      <td>2.417991</td>\n",
       "    </tr>\n",
       "  </tbody>\n",
       "</table>\n",
       "</div>"
      ]
     },
     "metadata": {},
     "execution_count": 137
    }
   ],
   "metadata": {}
  },
  {
   "cell_type": "code",
   "execution_count": 138,
   "source": [
    "df_worst10"
   ],
   "outputs": [
    {
     "output_type": "execute_result",
     "data": {
      "text/plain": [
       "     e_word   e_value      b_word   b_value    m_word   m_value      t_word  \\\n",
       "0    update -3.441656         and -2.333996  facebook -1.062082      stocks   \n",
       "1        us -3.276398         the -2.137717        gm -1.053594         fed   \n",
       "2    google -2.656597       ebola -2.066416    google -1.039050         her   \n",
       "3     china -2.377915         she -2.001245     sales -0.971496      cancer   \n",
       "4  facebook -2.228708         her -1.927218     apple -0.962734    american   \n",
       "5      says -2.154723   microsoft -1.706848   billion -0.885382         ecb   \n",
       "6       ceo -2.141222       apple -1.649707    amazon -0.871232        drug   \n",
       "7        gm -2.054252  kardashian -1.642719       ceo -0.854978  kardashian   \n",
       "8     apple -1.993568       video -1.630257   climate -0.842889       ebola   \n",
       "9     study -1.992855        star -1.602739   twitter -0.797898     ukraine   \n",
       "\n",
       "    t_value  \n",
       "0 -1.496614  \n",
       "1 -1.153780  \n",
       "2 -1.131312  \n",
       "3 -1.047856  \n",
       "4 -1.041196  \n",
       "5 -1.039070  \n",
       "6 -0.999433  \n",
       "7 -0.961170  \n",
       "8 -0.957469  \n",
       "9 -0.956081  "
      ],
      "text/html": [
       "<div>\n",
       "<style scoped>\n",
       "    .dataframe tbody tr th:only-of-type {\n",
       "        vertical-align: middle;\n",
       "    }\n",
       "\n",
       "    .dataframe tbody tr th {\n",
       "        vertical-align: top;\n",
       "    }\n",
       "\n",
       "    .dataframe thead th {\n",
       "        text-align: right;\n",
       "    }\n",
       "</style>\n",
       "<table border=\"1\" class=\"dataframe\">\n",
       "  <thead>\n",
       "    <tr style=\"text-align: right;\">\n",
       "      <th></th>\n",
       "      <th>e_word</th>\n",
       "      <th>e_value</th>\n",
       "      <th>b_word</th>\n",
       "      <th>b_value</th>\n",
       "      <th>m_word</th>\n",
       "      <th>m_value</th>\n",
       "      <th>t_word</th>\n",
       "      <th>t_value</th>\n",
       "    </tr>\n",
       "  </thead>\n",
       "  <tbody>\n",
       "    <tr>\n",
       "      <th>0</th>\n",
       "      <td>update</td>\n",
       "      <td>-3.441656</td>\n",
       "      <td>and</td>\n",
       "      <td>-2.333996</td>\n",
       "      <td>facebook</td>\n",
       "      <td>-1.062082</td>\n",
       "      <td>stocks</td>\n",
       "      <td>-1.496614</td>\n",
       "    </tr>\n",
       "    <tr>\n",
       "      <th>1</th>\n",
       "      <td>us</td>\n",
       "      <td>-3.276398</td>\n",
       "      <td>the</td>\n",
       "      <td>-2.137717</td>\n",
       "      <td>gm</td>\n",
       "      <td>-1.053594</td>\n",
       "      <td>fed</td>\n",
       "      <td>-1.153780</td>\n",
       "    </tr>\n",
       "    <tr>\n",
       "      <th>2</th>\n",
       "      <td>google</td>\n",
       "      <td>-2.656597</td>\n",
       "      <td>ebola</td>\n",
       "      <td>-2.066416</td>\n",
       "      <td>google</td>\n",
       "      <td>-1.039050</td>\n",
       "      <td>her</td>\n",
       "      <td>-1.131312</td>\n",
       "    </tr>\n",
       "    <tr>\n",
       "      <th>3</th>\n",
       "      <td>china</td>\n",
       "      <td>-2.377915</td>\n",
       "      <td>she</td>\n",
       "      <td>-2.001245</td>\n",
       "      <td>sales</td>\n",
       "      <td>-0.971496</td>\n",
       "      <td>cancer</td>\n",
       "      <td>-1.047856</td>\n",
       "    </tr>\n",
       "    <tr>\n",
       "      <th>4</th>\n",
       "      <td>facebook</td>\n",
       "      <td>-2.228708</td>\n",
       "      <td>her</td>\n",
       "      <td>-1.927218</td>\n",
       "      <td>apple</td>\n",
       "      <td>-0.962734</td>\n",
       "      <td>american</td>\n",
       "      <td>-1.041196</td>\n",
       "    </tr>\n",
       "    <tr>\n",
       "      <th>5</th>\n",
       "      <td>says</td>\n",
       "      <td>-2.154723</td>\n",
       "      <td>microsoft</td>\n",
       "      <td>-1.706848</td>\n",
       "      <td>billion</td>\n",
       "      <td>-0.885382</td>\n",
       "      <td>ecb</td>\n",
       "      <td>-1.039070</td>\n",
       "    </tr>\n",
       "    <tr>\n",
       "      <th>6</th>\n",
       "      <td>ceo</td>\n",
       "      <td>-2.141222</td>\n",
       "      <td>apple</td>\n",
       "      <td>-1.649707</td>\n",
       "      <td>amazon</td>\n",
       "      <td>-0.871232</td>\n",
       "      <td>drug</td>\n",
       "      <td>-0.999433</td>\n",
       "    </tr>\n",
       "    <tr>\n",
       "      <th>7</th>\n",
       "      <td>gm</td>\n",
       "      <td>-2.054252</td>\n",
       "      <td>kardashian</td>\n",
       "      <td>-1.642719</td>\n",
       "      <td>ceo</td>\n",
       "      <td>-0.854978</td>\n",
       "      <td>kardashian</td>\n",
       "      <td>-0.961170</td>\n",
       "    </tr>\n",
       "    <tr>\n",
       "      <th>8</th>\n",
       "      <td>apple</td>\n",
       "      <td>-1.993568</td>\n",
       "      <td>video</td>\n",
       "      <td>-1.630257</td>\n",
       "      <td>climate</td>\n",
       "      <td>-0.842889</td>\n",
       "      <td>ebola</td>\n",
       "      <td>-0.957469</td>\n",
       "    </tr>\n",
       "    <tr>\n",
       "      <th>9</th>\n",
       "      <td>study</td>\n",
       "      <td>-1.992855</td>\n",
       "      <td>star</td>\n",
       "      <td>-1.602739</td>\n",
       "      <td>twitter</td>\n",
       "      <td>-0.797898</td>\n",
       "      <td>ukraine</td>\n",
       "      <td>-0.956081</td>\n",
       "    </tr>\n",
       "  </tbody>\n",
       "</table>\n",
       "</div>"
      ]
     },
     "metadata": {},
     "execution_count": 138
    }
   ],
   "metadata": {}
  },
  {
   "cell_type": "markdown",
   "source": [
    "## 58.正則化パラメータの変更"
   ],
   "metadata": {}
  },
  {
   "cell_type": "code",
   "execution_count": 174,
   "source": [
    "df_regularization = pd.DataFrame(columns=[\"lambda\",\"train_accuracy\",\"valid_accuracy\",\"test_accuracy\"])\r\n",
    "for C in tqdm(np.arange(0.1,2.0,0.2)):\r\n",
    "    model = LogisticRegression(random_state=123, max_iter=10000,C=C)\r\n",
    "    model.fit(X_train, df_train[\"CATEGORY\"])\r\n",
    "    pred_train = model.predict(X_train)\r\n",
    "    pred_valid = model.predict(X_valid)\r\n",
    "    pred_test = model.predict(X_test)\r\n",
    "    df_regularization.loc[C] = [\r\n",
    "        C,\r\n",
    "        accuracy_score(df_train[\"CATEGORY\"], pred_train),\r\n",
    "        accuracy_score(df_valid[\"CATEGORY\"], pred_valid),\r\n",
    "        accuracy_score(df_test[\"CATEGORY\"], pred_test)\r\n",
    "    ]\r\n",
    "df_regularization = df_regularization.reset_index(drop=True)\r\n",
    "df_regularization"
   ],
   "outputs": [
    {
     "output_type": "stream",
     "name": "stderr",
     "text": [
      "100%|██████████| 10/10 [00:09<00:00,  1.00it/s]\n"
     ]
    },
    {
     "output_type": "execute_result",
     "data": {
      "text/plain": [
       "   lambda  train_accuracy  valid_accuracy  test_accuracy\n",
       "0     0.1        0.791136        0.791604       0.787856\n",
       "1     0.4        0.887556        0.874813       0.862069\n",
       "2     0.7        0.924663        0.890555       0.890555\n",
       "3     1.0        0.944434        0.898801       0.898051\n",
       "4     1.3        0.958958        0.905547       0.901049\n",
       "5     1.6        0.969265        0.910045       0.908546\n",
       "6     1.9        0.976762        0.911544       0.912294\n",
       "7     2.2        0.981259        0.913043       0.910795\n",
       "8     2.5        0.984445        0.913793       0.911544\n",
       "9     2.8        0.987725        0.914543       0.912294"
      ],
      "text/html": [
       "<div>\n",
       "<style scoped>\n",
       "    .dataframe tbody tr th:only-of-type {\n",
       "        vertical-align: middle;\n",
       "    }\n",
       "\n",
       "    .dataframe tbody tr th {\n",
       "        vertical-align: top;\n",
       "    }\n",
       "\n",
       "    .dataframe thead th {\n",
       "        text-align: right;\n",
       "    }\n",
       "</style>\n",
       "<table border=\"1\" class=\"dataframe\">\n",
       "  <thead>\n",
       "    <tr style=\"text-align: right;\">\n",
       "      <th></th>\n",
       "      <th>lambda</th>\n",
       "      <th>train_accuracy</th>\n",
       "      <th>valid_accuracy</th>\n",
       "      <th>test_accuracy</th>\n",
       "    </tr>\n",
       "  </thead>\n",
       "  <tbody>\n",
       "    <tr>\n",
       "      <th>0</th>\n",
       "      <td>0.1</td>\n",
       "      <td>0.791136</td>\n",
       "      <td>0.791604</td>\n",
       "      <td>0.787856</td>\n",
       "    </tr>\n",
       "    <tr>\n",
       "      <th>1</th>\n",
       "      <td>0.4</td>\n",
       "      <td>0.887556</td>\n",
       "      <td>0.874813</td>\n",
       "      <td>0.862069</td>\n",
       "    </tr>\n",
       "    <tr>\n",
       "      <th>2</th>\n",
       "      <td>0.7</td>\n",
       "      <td>0.924663</td>\n",
       "      <td>0.890555</td>\n",
       "      <td>0.890555</td>\n",
       "    </tr>\n",
       "    <tr>\n",
       "      <th>3</th>\n",
       "      <td>1.0</td>\n",
       "      <td>0.944434</td>\n",
       "      <td>0.898801</td>\n",
       "      <td>0.898051</td>\n",
       "    </tr>\n",
       "    <tr>\n",
       "      <th>4</th>\n",
       "      <td>1.3</td>\n",
       "      <td>0.958958</td>\n",
       "      <td>0.905547</td>\n",
       "      <td>0.901049</td>\n",
       "    </tr>\n",
       "    <tr>\n",
       "      <th>5</th>\n",
       "      <td>1.6</td>\n",
       "      <td>0.969265</td>\n",
       "      <td>0.910045</td>\n",
       "      <td>0.908546</td>\n",
       "    </tr>\n",
       "    <tr>\n",
       "      <th>6</th>\n",
       "      <td>1.9</td>\n",
       "      <td>0.976762</td>\n",
       "      <td>0.911544</td>\n",
       "      <td>0.912294</td>\n",
       "    </tr>\n",
       "    <tr>\n",
       "      <th>7</th>\n",
       "      <td>2.2</td>\n",
       "      <td>0.981259</td>\n",
       "      <td>0.913043</td>\n",
       "      <td>0.910795</td>\n",
       "    </tr>\n",
       "    <tr>\n",
       "      <th>8</th>\n",
       "      <td>2.5</td>\n",
       "      <td>0.984445</td>\n",
       "      <td>0.913793</td>\n",
       "      <td>0.911544</td>\n",
       "    </tr>\n",
       "    <tr>\n",
       "      <th>9</th>\n",
       "      <td>2.8</td>\n",
       "      <td>0.987725</td>\n",
       "      <td>0.914543</td>\n",
       "      <td>0.912294</td>\n",
       "    </tr>\n",
       "  </tbody>\n",
       "</table>\n",
       "</div>"
      ]
     },
     "metadata": {},
     "execution_count": 174
    }
   ],
   "metadata": {}
  },
  {
   "cell_type": "code",
   "execution_count": 175,
   "source": [
    "fig = go.Figure()\r\n",
    "fig.add_trace(go.Scatter(x=df_regularization[\"lambda\"], y=df_regularization[\"train_accuracy\"], name=\"train_accuracy\"))\r\n",
    "fig.add_trace(go.Scatter(x=df_regularization[\"lambda\"], y=df_regularization[\"valid_accuracy\"], name=\"valid_accuracy\"))\r\n",
    "fig.add_trace(go.Scatter(x=df_regularization[\"lambda\"], y=df_regularization[\"test_accuracy\"], name=\"test_accuracy\"))\r\n",
    "fig"
   ],
   "outputs": [
    {
     "output_type": "display_data",
     "data": {
      "application/vnd.plotly.v1+json": {
       "config": {
        "plotlyServerURL": "https://plot.ly"
       },
       "data": [
        {
         "name": "train_accuracy",
         "type": "scatter",
         "x": [
          0.1,
          0.4,
          0.7000000000000001,
          1.0000000000000002,
          1.3000000000000003,
          1.6000000000000003,
          1.9000000000000004,
          2.2000000000000006,
          2.5000000000000004,
          2.8000000000000003
         ],
         "y": [
          0.7911356821589205,
          0.8875562218890555,
          0.9246626686656672,
          0.9444340329835083,
          0.9589580209895052,
          0.9692653673163418,
          0.9767616191904048,
          0.9812593703148426,
          0.9844452773613194,
          0.9877248875562219
         ]
        },
        {
         "name": "valid_accuracy",
         "type": "scatter",
         "x": [
          0.1,
          0.4,
          0.7000000000000001,
          1.0000000000000002,
          1.3000000000000003,
          1.6000000000000003,
          1.9000000000000004,
          2.2000000000000006,
          2.5000000000000004,
          2.8000000000000003
         ],
         "y": [
          0.7916041979010495,
          0.8748125937031485,
          0.8905547226386806,
          0.8988005997001499,
          0.9055472263868066,
          0.9100449775112444,
          0.9115442278860569,
          0.9130434782608695,
          0.9137931034482759,
          0.9145427286356822
         ]
        },
        {
         "name": "test_accuracy",
         "type": "scatter",
         "x": [
          0.1,
          0.4,
          0.7000000000000001,
          1.0000000000000002,
          1.3000000000000003,
          1.6000000000000003,
          1.9000000000000004,
          2.2000000000000006,
          2.5000000000000004,
          2.8000000000000003
         ],
         "y": [
          0.787856071964018,
          0.8620689655172413,
          0.8905547226386806,
          0.8980509745127436,
          0.9010494752623688,
          0.9085457271364318,
          0.9122938530734632,
          0.9107946026986506,
          0.9115442278860569,
          0.9122938530734632
         ]
        }
       ],
       "layout": {
        "template": {
         "data": {
          "bar": [
           {
            "error_x": {
             "color": "#2a3f5f"
            },
            "error_y": {
             "color": "#2a3f5f"
            },
            "marker": {
             "line": {
              "color": "#E5ECF6",
              "width": 0.5
             }
            },
            "type": "bar"
           }
          ],
          "barpolar": [
           {
            "marker": {
             "line": {
              "color": "#E5ECF6",
              "width": 0.5
             }
            },
            "type": "barpolar"
           }
          ],
          "carpet": [
           {
            "aaxis": {
             "endlinecolor": "#2a3f5f",
             "gridcolor": "white",
             "linecolor": "white",
             "minorgridcolor": "white",
             "startlinecolor": "#2a3f5f"
            },
            "baxis": {
             "endlinecolor": "#2a3f5f",
             "gridcolor": "white",
             "linecolor": "white",
             "minorgridcolor": "white",
             "startlinecolor": "#2a3f5f"
            },
            "type": "carpet"
           }
          ],
          "choropleth": [
           {
            "colorbar": {
             "outlinewidth": 0,
             "ticks": ""
            },
            "type": "choropleth"
           }
          ],
          "contour": [
           {
            "colorbar": {
             "outlinewidth": 0,
             "ticks": ""
            },
            "colorscale": [
             [
              0,
              "#0d0887"
             ],
             [
              0.1111111111111111,
              "#46039f"
             ],
             [
              0.2222222222222222,
              "#7201a8"
             ],
             [
              0.3333333333333333,
              "#9c179e"
             ],
             [
              0.4444444444444444,
              "#bd3786"
             ],
             [
              0.5555555555555556,
              "#d8576b"
             ],
             [
              0.6666666666666666,
              "#ed7953"
             ],
             [
              0.7777777777777778,
              "#fb9f3a"
             ],
             [
              0.8888888888888888,
              "#fdca26"
             ],
             [
              1,
              "#f0f921"
             ]
            ],
            "type": "contour"
           }
          ],
          "contourcarpet": [
           {
            "colorbar": {
             "outlinewidth": 0,
             "ticks": ""
            },
            "type": "contourcarpet"
           }
          ],
          "heatmap": [
           {
            "colorbar": {
             "outlinewidth": 0,
             "ticks": ""
            },
            "colorscale": [
             [
              0,
              "#0d0887"
             ],
             [
              0.1111111111111111,
              "#46039f"
             ],
             [
              0.2222222222222222,
              "#7201a8"
             ],
             [
              0.3333333333333333,
              "#9c179e"
             ],
             [
              0.4444444444444444,
              "#bd3786"
             ],
             [
              0.5555555555555556,
              "#d8576b"
             ],
             [
              0.6666666666666666,
              "#ed7953"
             ],
             [
              0.7777777777777778,
              "#fb9f3a"
             ],
             [
              0.8888888888888888,
              "#fdca26"
             ],
             [
              1,
              "#f0f921"
             ]
            ],
            "type": "heatmap"
           }
          ],
          "heatmapgl": [
           {
            "colorbar": {
             "outlinewidth": 0,
             "ticks": ""
            },
            "colorscale": [
             [
              0,
              "#0d0887"
             ],
             [
              0.1111111111111111,
              "#46039f"
             ],
             [
              0.2222222222222222,
              "#7201a8"
             ],
             [
              0.3333333333333333,
              "#9c179e"
             ],
             [
              0.4444444444444444,
              "#bd3786"
             ],
             [
              0.5555555555555556,
              "#d8576b"
             ],
             [
              0.6666666666666666,
              "#ed7953"
             ],
             [
              0.7777777777777778,
              "#fb9f3a"
             ],
             [
              0.8888888888888888,
              "#fdca26"
             ],
             [
              1,
              "#f0f921"
             ]
            ],
            "type": "heatmapgl"
           }
          ],
          "histogram": [
           {
            "marker": {
             "colorbar": {
              "outlinewidth": 0,
              "ticks": ""
             }
            },
            "type": "histogram"
           }
          ],
          "histogram2d": [
           {
            "colorbar": {
             "outlinewidth": 0,
             "ticks": ""
            },
            "colorscale": [
             [
              0,
              "#0d0887"
             ],
             [
              0.1111111111111111,
              "#46039f"
             ],
             [
              0.2222222222222222,
              "#7201a8"
             ],
             [
              0.3333333333333333,
              "#9c179e"
             ],
             [
              0.4444444444444444,
              "#bd3786"
             ],
             [
              0.5555555555555556,
              "#d8576b"
             ],
             [
              0.6666666666666666,
              "#ed7953"
             ],
             [
              0.7777777777777778,
              "#fb9f3a"
             ],
             [
              0.8888888888888888,
              "#fdca26"
             ],
             [
              1,
              "#f0f921"
             ]
            ],
            "type": "histogram2d"
           }
          ],
          "histogram2dcontour": [
           {
            "colorbar": {
             "outlinewidth": 0,
             "ticks": ""
            },
            "colorscale": [
             [
              0,
              "#0d0887"
             ],
             [
              0.1111111111111111,
              "#46039f"
             ],
             [
              0.2222222222222222,
              "#7201a8"
             ],
             [
              0.3333333333333333,
              "#9c179e"
             ],
             [
              0.4444444444444444,
              "#bd3786"
             ],
             [
              0.5555555555555556,
              "#d8576b"
             ],
             [
              0.6666666666666666,
              "#ed7953"
             ],
             [
              0.7777777777777778,
              "#fb9f3a"
             ],
             [
              0.8888888888888888,
              "#fdca26"
             ],
             [
              1,
              "#f0f921"
             ]
            ],
            "type": "histogram2dcontour"
           }
          ],
          "mesh3d": [
           {
            "colorbar": {
             "outlinewidth": 0,
             "ticks": ""
            },
            "type": "mesh3d"
           }
          ],
          "parcoords": [
           {
            "line": {
             "colorbar": {
              "outlinewidth": 0,
              "ticks": ""
             }
            },
            "type": "parcoords"
           }
          ],
          "pie": [
           {
            "automargin": true,
            "type": "pie"
           }
          ],
          "scatter": [
           {
            "marker": {
             "colorbar": {
              "outlinewidth": 0,
              "ticks": ""
             }
            },
            "type": "scatter"
           }
          ],
          "scatter3d": [
           {
            "line": {
             "colorbar": {
              "outlinewidth": 0,
              "ticks": ""
             }
            },
            "marker": {
             "colorbar": {
              "outlinewidth": 0,
              "ticks": ""
             }
            },
            "type": "scatter3d"
           }
          ],
          "scattercarpet": [
           {
            "marker": {
             "colorbar": {
              "outlinewidth": 0,
              "ticks": ""
             }
            },
            "type": "scattercarpet"
           }
          ],
          "scattergeo": [
           {
            "marker": {
             "colorbar": {
              "outlinewidth": 0,
              "ticks": ""
             }
            },
            "type": "scattergeo"
           }
          ],
          "scattergl": [
           {
            "marker": {
             "colorbar": {
              "outlinewidth": 0,
              "ticks": ""
             }
            },
            "type": "scattergl"
           }
          ],
          "scattermapbox": [
           {
            "marker": {
             "colorbar": {
              "outlinewidth": 0,
              "ticks": ""
             }
            },
            "type": "scattermapbox"
           }
          ],
          "scatterpolar": [
           {
            "marker": {
             "colorbar": {
              "outlinewidth": 0,
              "ticks": ""
             }
            },
            "type": "scatterpolar"
           }
          ],
          "scatterpolargl": [
           {
            "marker": {
             "colorbar": {
              "outlinewidth": 0,
              "ticks": ""
             }
            },
            "type": "scatterpolargl"
           }
          ],
          "scatterternary": [
           {
            "marker": {
             "colorbar": {
              "outlinewidth": 0,
              "ticks": ""
             }
            },
            "type": "scatterternary"
           }
          ],
          "surface": [
           {
            "colorbar": {
             "outlinewidth": 0,
             "ticks": ""
            },
            "colorscale": [
             [
              0,
              "#0d0887"
             ],
             [
              0.1111111111111111,
              "#46039f"
             ],
             [
              0.2222222222222222,
              "#7201a8"
             ],
             [
              0.3333333333333333,
              "#9c179e"
             ],
             [
              0.4444444444444444,
              "#bd3786"
             ],
             [
              0.5555555555555556,
              "#d8576b"
             ],
             [
              0.6666666666666666,
              "#ed7953"
             ],
             [
              0.7777777777777778,
              "#fb9f3a"
             ],
             [
              0.8888888888888888,
              "#fdca26"
             ],
             [
              1,
              "#f0f921"
             ]
            ],
            "type": "surface"
           }
          ],
          "table": [
           {
            "cells": {
             "fill": {
              "color": "#EBF0F8"
             },
             "line": {
              "color": "white"
             }
            },
            "header": {
             "fill": {
              "color": "#C8D4E3"
             },
             "line": {
              "color": "white"
             }
            },
            "type": "table"
           }
          ]
         },
         "layout": {
          "annotationdefaults": {
           "arrowcolor": "#2a3f5f",
           "arrowhead": 0,
           "arrowwidth": 1
          },
          "coloraxis": {
           "colorbar": {
            "outlinewidth": 0,
            "ticks": ""
           }
          },
          "colorscale": {
           "diverging": [
            [
             0,
             "#8e0152"
            ],
            [
             0.1,
             "#c51b7d"
            ],
            [
             0.2,
             "#de77ae"
            ],
            [
             0.3,
             "#f1b6da"
            ],
            [
             0.4,
             "#fde0ef"
            ],
            [
             0.5,
             "#f7f7f7"
            ],
            [
             0.6,
             "#e6f5d0"
            ],
            [
             0.7,
             "#b8e186"
            ],
            [
             0.8,
             "#7fbc41"
            ],
            [
             0.9,
             "#4d9221"
            ],
            [
             1,
             "#276419"
            ]
           ],
           "sequential": [
            [
             0,
             "#0d0887"
            ],
            [
             0.1111111111111111,
             "#46039f"
            ],
            [
             0.2222222222222222,
             "#7201a8"
            ],
            [
             0.3333333333333333,
             "#9c179e"
            ],
            [
             0.4444444444444444,
             "#bd3786"
            ],
            [
             0.5555555555555556,
             "#d8576b"
            ],
            [
             0.6666666666666666,
             "#ed7953"
            ],
            [
             0.7777777777777778,
             "#fb9f3a"
            ],
            [
             0.8888888888888888,
             "#fdca26"
            ],
            [
             1,
             "#f0f921"
            ]
           ],
           "sequentialminus": [
            [
             0,
             "#0d0887"
            ],
            [
             0.1111111111111111,
             "#46039f"
            ],
            [
             0.2222222222222222,
             "#7201a8"
            ],
            [
             0.3333333333333333,
             "#9c179e"
            ],
            [
             0.4444444444444444,
             "#bd3786"
            ],
            [
             0.5555555555555556,
             "#d8576b"
            ],
            [
             0.6666666666666666,
             "#ed7953"
            ],
            [
             0.7777777777777778,
             "#fb9f3a"
            ],
            [
             0.8888888888888888,
             "#fdca26"
            ],
            [
             1,
             "#f0f921"
            ]
           ]
          },
          "colorway": [
           "#636efa",
           "#EF553B",
           "#00cc96",
           "#ab63fa",
           "#FFA15A",
           "#19d3f3",
           "#FF6692",
           "#B6E880",
           "#FF97FF",
           "#FECB52"
          ],
          "font": {
           "color": "#2a3f5f"
          },
          "geo": {
           "bgcolor": "white",
           "lakecolor": "white",
           "landcolor": "#E5ECF6",
           "showlakes": true,
           "showland": true,
           "subunitcolor": "white"
          },
          "hoverlabel": {
           "align": "left"
          },
          "hovermode": "closest",
          "mapbox": {
           "style": "light"
          },
          "paper_bgcolor": "white",
          "plot_bgcolor": "#E5ECF6",
          "polar": {
           "angularaxis": {
            "gridcolor": "white",
            "linecolor": "white",
            "ticks": ""
           },
           "bgcolor": "#E5ECF6",
           "radialaxis": {
            "gridcolor": "white",
            "linecolor": "white",
            "ticks": ""
           }
          },
          "scene": {
           "xaxis": {
            "backgroundcolor": "#E5ECF6",
            "gridcolor": "white",
            "gridwidth": 2,
            "linecolor": "white",
            "showbackground": true,
            "ticks": "",
            "zerolinecolor": "white"
           },
           "yaxis": {
            "backgroundcolor": "#E5ECF6",
            "gridcolor": "white",
            "gridwidth": 2,
            "linecolor": "white",
            "showbackground": true,
            "ticks": "",
            "zerolinecolor": "white"
           },
           "zaxis": {
            "backgroundcolor": "#E5ECF6",
            "gridcolor": "white",
            "gridwidth": 2,
            "linecolor": "white",
            "showbackground": true,
            "ticks": "",
            "zerolinecolor": "white"
           }
          },
          "shapedefaults": {
           "line": {
            "color": "#2a3f5f"
           }
          },
          "ternary": {
           "aaxis": {
            "gridcolor": "white",
            "linecolor": "white",
            "ticks": ""
           },
           "baxis": {
            "gridcolor": "white",
            "linecolor": "white",
            "ticks": ""
           },
           "bgcolor": "#E5ECF6",
           "caxis": {
            "gridcolor": "white",
            "linecolor": "white",
            "ticks": ""
           }
          },
          "title": {
           "x": 0.05
          },
          "xaxis": {
           "automargin": true,
           "gridcolor": "white",
           "linecolor": "white",
           "ticks": "",
           "title": {
            "standoff": 15
           },
           "zerolinecolor": "white",
           "zerolinewidth": 2
          },
          "yaxis": {
           "automargin": true,
           "gridcolor": "white",
           "linecolor": "white",
           "ticks": "",
           "title": {
            "standoff": 15
           },
           "zerolinecolor": "white",
           "zerolinewidth": 2
          }
         }
        }
       }
      }
     },
     "metadata": {}
    }
   ],
   "metadata": {}
  },
  {
   "cell_type": "markdown",
   "source": [
    "## 59.ハイパーパラメータの探索"
   ],
   "metadata": {}
  },
  {
   "cell_type": "code",
   "execution_count": 155,
   "source": [],
   "outputs": [
    {
     "output_type": "error",
     "ename": "TypeError",
     "evalue": "cannot concatenate object of type '<class 'numpy.float64'>'; only Series and DataFrame objs are valid",
     "traceback": [
      "\u001b[1;31m---------------------------------------------------------------------------\u001b[0m",
      "\u001b[1;31mTypeError\u001b[0m                                 Traceback (most recent call last)",
      "\u001b[1;32m<ipython-input-155-d54bdd33706a>\u001b[0m in \u001b[0;36m<module>\u001b[1;34m\u001b[0m\n\u001b[1;32m----> 1\u001b[1;33m df_regularization.append(\n\u001b[0m\u001b[0;32m      2\u001b[0m     \u001b[0mC\u001b[0m\u001b[1;33m,\u001b[0m\u001b[1;33m\u001b[0m\u001b[1;33m\u001b[0m\u001b[0m\n\u001b[0;32m      3\u001b[0m     \u001b[0maccuracy_score\u001b[0m\u001b[1;33m(\u001b[0m\u001b[0mdf_train\u001b[0m\u001b[1;33m[\u001b[0m\u001b[1;34m\"CATEGORY\"\u001b[0m\u001b[1;33m]\u001b[0m\u001b[1;33m,\u001b[0m \u001b[0mpred_train\u001b[0m\u001b[1;33m)\u001b[0m\u001b[1;33m,\u001b[0m\u001b[1;33m\u001b[0m\u001b[1;33m\u001b[0m\u001b[0m\n\u001b[0;32m      4\u001b[0m     \u001b[0maccuracy_score\u001b[0m\u001b[1;33m(\u001b[0m\u001b[0mdf_valid\u001b[0m\u001b[1;33m[\u001b[0m\u001b[1;34m\"CATEGORY\"\u001b[0m\u001b[1;33m]\u001b[0m\u001b[1;33m,\u001b[0m \u001b[0mpred_valid\u001b[0m\u001b[1;33m)\u001b[0m\u001b[1;33m,\u001b[0m\u001b[1;33m\u001b[0m\u001b[1;33m\u001b[0m\u001b[0m\n\u001b[0;32m      5\u001b[0m     \u001b[0maccuracy_score\u001b[0m\u001b[1;33m(\u001b[0m\u001b[0mdf_test\u001b[0m\u001b[1;33m[\u001b[0m\u001b[1;34m\"CATEGORY\"\u001b[0m\u001b[1;33m]\u001b[0m\u001b[1;33m,\u001b[0m \u001b[0mpred_test\u001b[0m\u001b[1;33m)\u001b[0m\u001b[1;33m\u001b[0m\u001b[1;33m\u001b[0m\u001b[0m\n",
      "\u001b[1;32m~\\anaconda3\\lib\\site-packages\\pandas\\core\\frame.py\u001b[0m in \u001b[0;36mappend\u001b[1;34m(self, other, ignore_index, verify_integrity, sort)\u001b[0m\n\u001b[0;32m   7980\u001b[0m             \u001b[0mto_concat\u001b[0m \u001b[1;33m=\u001b[0m \u001b[1;33m[\u001b[0m\u001b[0mself\u001b[0m\u001b[1;33m,\u001b[0m \u001b[0mother\u001b[0m\u001b[1;33m]\u001b[0m\u001b[1;33m\u001b[0m\u001b[1;33m\u001b[0m\u001b[0m\n\u001b[0;32m   7981\u001b[0m         return (\n\u001b[1;32m-> 7982\u001b[1;33m             concat(\n\u001b[0m\u001b[0;32m   7983\u001b[0m                 \u001b[0mto_concat\u001b[0m\u001b[1;33m,\u001b[0m\u001b[1;33m\u001b[0m\u001b[1;33m\u001b[0m\u001b[0m\n\u001b[0;32m   7984\u001b[0m                 \u001b[0mignore_index\u001b[0m\u001b[1;33m=\u001b[0m\u001b[0mignore_index\u001b[0m\u001b[1;33m,\u001b[0m\u001b[1;33m\u001b[0m\u001b[1;33m\u001b[0m\u001b[0m\n",
      "\u001b[1;32m~\\anaconda3\\lib\\site-packages\\pandas\\core\\reshape\\concat.py\u001b[0m in \u001b[0;36mconcat\u001b[1;34m(objs, axis, join, ignore_index, keys, levels, names, verify_integrity, sort, copy)\u001b[0m\n\u001b[0;32m    283\u001b[0m     \u001b[0mValueError\u001b[0m\u001b[1;33m:\u001b[0m \u001b[0mIndexes\u001b[0m \u001b[0mhave\u001b[0m \u001b[0moverlapping\u001b[0m \u001b[0mvalues\u001b[0m\u001b[1;33m:\u001b[0m \u001b[1;33m[\u001b[0m\u001b[1;34m'a'\u001b[0m\u001b[1;33m]\u001b[0m\u001b[1;33m\u001b[0m\u001b[1;33m\u001b[0m\u001b[0m\n\u001b[0;32m    284\u001b[0m     \"\"\"\n\u001b[1;32m--> 285\u001b[1;33m     op = _Concatenator(\n\u001b[0m\u001b[0;32m    286\u001b[0m         \u001b[0mobjs\u001b[0m\u001b[1;33m,\u001b[0m\u001b[1;33m\u001b[0m\u001b[1;33m\u001b[0m\u001b[0m\n\u001b[0;32m    287\u001b[0m         \u001b[0maxis\u001b[0m\u001b[1;33m=\u001b[0m\u001b[0maxis\u001b[0m\u001b[1;33m,\u001b[0m\u001b[1;33m\u001b[0m\u001b[1;33m\u001b[0m\u001b[0m\n",
      "\u001b[1;32m~\\anaconda3\\lib\\site-packages\\pandas\\core\\reshape\\concat.py\u001b[0m in \u001b[0;36m__init__\u001b[1;34m(self, objs, axis, join, keys, levels, names, ignore_index, verify_integrity, copy, sort)\u001b[0m\n\u001b[0;32m    368\u001b[0m                     \u001b[1;34m\"only Series and DataFrame objs are valid\"\u001b[0m\u001b[1;33m\u001b[0m\u001b[1;33m\u001b[0m\u001b[0m\n\u001b[0;32m    369\u001b[0m                 )\n\u001b[1;32m--> 370\u001b[1;33m                 \u001b[1;32mraise\u001b[0m \u001b[0mTypeError\u001b[0m\u001b[1;33m(\u001b[0m\u001b[0mmsg\u001b[0m\u001b[1;33m)\u001b[0m\u001b[1;33m\u001b[0m\u001b[1;33m\u001b[0m\u001b[0m\n\u001b[0m\u001b[0;32m    371\u001b[0m \u001b[1;33m\u001b[0m\u001b[0m\n\u001b[0;32m    372\u001b[0m             \u001b[1;31m# consolidate\u001b[0m\u001b[1;33m\u001b[0m\u001b[1;33m\u001b[0m\u001b[1;33m\u001b[0m\u001b[0m\n",
      "\u001b[1;31mTypeError\u001b[0m: cannot concatenate object of type '<class 'numpy.float64'>'; only Series and DataFrame objs are valid"
     ]
    }
   ],
   "metadata": {}
  }
 ],
 "metadata": {
  "orig_nbformat": 4,
  "language_info": {
   "name": "python",
   "version": "3.8.3",
   "mimetype": "text/x-python",
   "codemirror_mode": {
    "name": "ipython",
    "version": 3
   },
   "pygments_lexer": "ipython3",
   "nbconvert_exporter": "python",
   "file_extension": ".py"
  },
  "kernelspec": {
   "name": "python3",
   "display_name": "Python 3.8.3 64-bit ('base': conda)"
  },
  "interpreter": {
   "hash": "173319109fbdc3b9e6669d3e6b9b4c0d8de214a81d3d8a11fbee43e8362bce4b"
  }
 },
 "nbformat": 4,
 "nbformat_minor": 2
}