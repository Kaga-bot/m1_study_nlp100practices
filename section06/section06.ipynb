{
 "cells": [
  {
   "cell_type": "markdown",
   "source": [
    "<a href=\"https://colab.research.google.com/github/tktkbohshi/m1_study_nlp100practices/blob/main/M1_NLP_100practices.ipynb\" target=\"_parent\"><img src=\"https://colab.research.google.com/assets/colab-badge.svg\" alt=\"Open In Colab\"/></a>"
   ],
   "metadata": {}
  },
  {
   "cell_type": "markdown",
   "source": [
    "## Imports"
   ],
   "metadata": {}
  },
  {
   "cell_type": "code",
   "execution_count": 119,
   "source": [
    "import pandas as pd\r\n",
    "import numpy as np\r\n",
    "from sklearn.feature_extraction.text import TfidfVectorizer\r\n",
    "from sklearn.linear_model import LogisticRegression\r\n",
    "from sklearn.metrics import accuracy_score\r\n",
    "from sklearn.metrics import confusion_matrix\r\n",
    "from sklearn.metrics import precision_score, recall_score, f1_score"
   ],
   "outputs": [],
   "metadata": {}
  },
  {
   "cell_type": "markdown",
   "source": [
    "# 第6章: 機械学習\r\n",
    "本章では，Fabio Gasparetti氏が公開しているNews Aggregator Data Setを用い，ニュース記事の見出しを「ビジネス」「科学技術」「エンターテイメント」「健康」のカテゴリに分類するタスク（カテゴリ分類）に取り組む．"
   ],
   "metadata": {}
  },
  {
   "cell_type": "markdown",
   "source": [
    "## 50.データの入手・整形\r\n",
    "News Aggregator Data Setをダウンロードし、以下の要領で学習データ（train.txt），検証データ（valid.txt），評価データ（test.txt）を作成せよ．\r\n",
    "1. ダウンロードしたzipファイルを解凍し，readme.txtの説明を読む．\r\n",
    "1. 情報源（publisher）が”Reuters”, “Huffington Post”, “Businessweek”, “Contactmusic.com”, “Daily Mail”の事例（記事）のみを抽出する．\r\n",
    "1. 抽出された事例をランダムに並び替える．\r\n",
    "1. 抽出された事例の80%を学習データ，残りの10%ずつを検証データと評価データに分割し，それぞれtrain.txt，valid.txt，test.txtというファイル名で保存する．ファイルには，１行に１事例を書き出すこととし，カテゴリ名と記事見出しのタブ区切り形式とせよ（このファイルは後に問題70で再利用する）．\r\n",
    "学習データと評価データを作成したら，各カテゴリの事例数を確認せよ．"
   ],
   "metadata": {}
  },
  {
   "cell_type": "markdown",
   "source": [
    "### Datasets detail\r\n",
    "+ ID\t\tNumeric ID\r\n",
    "+ TITLE\t\tNews title \r\n",
    "+ URL\t\tUrl\r\n",
    "+ PUBLISHER\tPublisher name\r\n",
    "+ CATEGORY\tNews category (b = business, t = science and technology, e = entertainment, m = health)\r\n",
    "+ STORY\t\tAlphanumeric ID of the cluster that includes news about the same story\r\n",
    "+ HOSTNAME\tUrl hostname\r\n",
    "+ TIMESTAMP \tApproximate time the news was published, as the number of milliseconds since the epoch 00:00:00 GMT, January 1, 1970"
   ],
   "metadata": {}
  },
  {
   "cell_type": "code",
   "execution_count": 76,
   "source": [
    "columns = [\"ID\",\"TITLE\",\"URL\",\"PUBLISHER\",\"CATEGORY\",\"STORY\",\"HOSTNAME\",\"TIMESTAMP\"]\r\n",
    "df_publisher = pd.read_csv(\"./data/NewsAggregatorDataset/newsCorpora.csv\", names=columns, sep=\"\\t\")\r\n",
    "df_publisher = df_publisher[df_publisher[\"PUBLISHER\"].isin([\"Reuters\", \"Huffington Post\", \"Businessweek\", \"Contactmusic.com\", \"Daily Mail\"])]\r\n",
    "df_publisher = df_publisher.sample(frac=1).reset_index(drop=True)\r\n",
    "df_publisher[\"TITLE\"] = df_publisher[\"TITLE\"].str.lower()\r\n",
    "df_publisher.head(5)"
   ],
   "outputs": [
    {
     "output_type": "execute_result",
     "data": {
      "text/plain": [
       "       ID                                              TITLE  \\\n",
       "0  264730  samsung unveils prototype health band with clo...   \n",
       "1   97909  'house of cards' in setback as maryland balks ...   \n",
       "2  318824  outrage from viewers as baby eagle is left to ...   \n",
       "3  298052  ge said to refine jobs, nuclear plans in alsto...   \n",
       "4  227041  at&t-comcast start of deals forming regulatory...   \n",
       "\n",
       "                                                 URL     PUBLISHER CATEGORY  \\\n",
       "0  http://www.businessweek.com/news/2014-05-28/sa...  Businessweek        t   \n",
       "1  http://www.businessweek.com/news/2014-04-08/ho...  Businessweek        t   \n",
       "2  http://www.dailymail.co.uk/news/article-266974...    Daily Mail        t   \n",
       "3  http://www.businessweek.com/news/2014-06-17/ge...  Businessweek        b   \n",
       "4  http://www.businessweek.com/news/2014-05-20/at...  Businessweek        t   \n",
       "\n",
       "                           STORY              HOSTNAME      TIMESTAMP  \n",
       "0  d-nOD2jkbIjxiDMUfJkGOqCOTnm0M  www.businessweek.com  1401360390844  \n",
       "1  dGARGeNtJm3oezMFAgrVrMtJiqq2M  www.businessweek.com  1397235728087  \n",
       "2  dFH0zcBWg6cjb5MjkQTgE-y9OUmEM   www.dailymail.co.uk  1403787928015  \n",
       "3  dfNbQTGBfJ6jr7MBhWNlj_D_HhIuM  www.businessweek.com  1403073455171  \n",
       "4  dVKMSZMLATiLKpM5kLkclxzxZebVM  www.businessweek.com  1400640960411  "
      ],
      "text/html": [
       "<div>\n",
       "<style scoped>\n",
       "    .dataframe tbody tr th:only-of-type {\n",
       "        vertical-align: middle;\n",
       "    }\n",
       "\n",
       "    .dataframe tbody tr th {\n",
       "        vertical-align: top;\n",
       "    }\n",
       "\n",
       "    .dataframe thead th {\n",
       "        text-align: right;\n",
       "    }\n",
       "</style>\n",
       "<table border=\"1\" class=\"dataframe\">\n",
       "  <thead>\n",
       "    <tr style=\"text-align: right;\">\n",
       "      <th></th>\n",
       "      <th>ID</th>\n",
       "      <th>TITLE</th>\n",
       "      <th>URL</th>\n",
       "      <th>PUBLISHER</th>\n",
       "      <th>CATEGORY</th>\n",
       "      <th>STORY</th>\n",
       "      <th>HOSTNAME</th>\n",
       "      <th>TIMESTAMP</th>\n",
       "    </tr>\n",
       "  </thead>\n",
       "  <tbody>\n",
       "    <tr>\n",
       "      <th>0</th>\n",
       "      <td>264730</td>\n",
       "      <td>samsung unveils prototype health band with clo...</td>\n",
       "      <td>http://www.businessweek.com/news/2014-05-28/sa...</td>\n",
       "      <td>Businessweek</td>\n",
       "      <td>t</td>\n",
       "      <td>d-nOD2jkbIjxiDMUfJkGOqCOTnm0M</td>\n",
       "      <td>www.businessweek.com</td>\n",
       "      <td>1401360390844</td>\n",
       "    </tr>\n",
       "    <tr>\n",
       "      <th>1</th>\n",
       "      <td>97909</td>\n",
       "      <td>'house of cards' in setback as maryland balks ...</td>\n",
       "      <td>http://www.businessweek.com/news/2014-04-08/ho...</td>\n",
       "      <td>Businessweek</td>\n",
       "      <td>t</td>\n",
       "      <td>dGARGeNtJm3oezMFAgrVrMtJiqq2M</td>\n",
       "      <td>www.businessweek.com</td>\n",
       "      <td>1397235728087</td>\n",
       "    </tr>\n",
       "    <tr>\n",
       "      <th>2</th>\n",
       "      <td>318824</td>\n",
       "      <td>outrage from viewers as baby eagle is left to ...</td>\n",
       "      <td>http://www.dailymail.co.uk/news/article-266974...</td>\n",
       "      <td>Daily Mail</td>\n",
       "      <td>t</td>\n",
       "      <td>dFH0zcBWg6cjb5MjkQTgE-y9OUmEM</td>\n",
       "      <td>www.dailymail.co.uk</td>\n",
       "      <td>1403787928015</td>\n",
       "    </tr>\n",
       "    <tr>\n",
       "      <th>3</th>\n",
       "      <td>298052</td>\n",
       "      <td>ge said to refine jobs, nuclear plans in alsto...</td>\n",
       "      <td>http://www.businessweek.com/news/2014-06-17/ge...</td>\n",
       "      <td>Businessweek</td>\n",
       "      <td>b</td>\n",
       "      <td>dfNbQTGBfJ6jr7MBhWNlj_D_HhIuM</td>\n",
       "      <td>www.businessweek.com</td>\n",
       "      <td>1403073455171</td>\n",
       "    </tr>\n",
       "    <tr>\n",
       "      <th>4</th>\n",
       "      <td>227041</td>\n",
       "      <td>at&amp;t-comcast start of deals forming regulatory...</td>\n",
       "      <td>http://www.businessweek.com/news/2014-05-20/at...</td>\n",
       "      <td>Businessweek</td>\n",
       "      <td>t</td>\n",
       "      <td>dVKMSZMLATiLKpM5kLkclxzxZebVM</td>\n",
       "      <td>www.businessweek.com</td>\n",
       "      <td>1400640960411</td>\n",
       "    </tr>\n",
       "  </tbody>\n",
       "</table>\n",
       "</div>"
      ]
     },
     "metadata": {},
     "execution_count": 76
    }
   ],
   "metadata": {}
  },
  {
   "cell_type": "code",
   "execution_count": 77,
   "source": [
    "df_train = df_publisher[0:int(len(df_publisher)*0.8)]\r\n",
    "df_valid = df_publisher[int(len(df_publisher)*0.8):int(len(df_publisher)*0.9)]\r\n",
    "df_test = df_publisher[int(len(df_publisher)*0.9):int(len(df_publisher))]\r\n",
    "df_train.to_csv(\"./data/outputs/train.txt\",sep=\"\\t\", index=False)\r\n",
    "df_valid.to_csv(\"./data/outputs/valid.txt\",sep=\"\\t\", index=False)\r\n",
    "df_test.to_csv(\"./data/outputs/test.txt\",sep=\"\\t\", index=False)"
   ],
   "outputs": [],
   "metadata": {}
  },
  {
   "cell_type": "markdown",
   "source": [
    "## 51.特徴量抽出"
   ],
   "metadata": {}
  },
  {
   "cell_type": "code",
   "execution_count": 83,
   "source": [
    "tfidf_vec = TfidfVectorizer()\r\n",
    "X_train = tfidf_vec.fit_transform(df_train[\"TITLE\"])\r\n",
    "X_test = tfidf_vec.transform(df_test[\"TITLE\"])"
   ],
   "outputs": [],
   "metadata": {}
  },
  {
   "cell_type": "markdown",
   "source": [
    "## 52.学習"
   ],
   "metadata": {}
  },
  {
   "cell_type": "code",
   "execution_count": 87,
   "source": [
    "model = LogisticRegression(random_state=123, max_iter=10000)\r\n",
    "model.fit(X_train, df_train[\"CATEGORY\"])"
   ],
   "outputs": [
    {
     "output_type": "execute_result",
     "data": {
      "text/plain": [
       "LogisticRegression(max_iter=10000, random_state=123)"
      ]
     },
     "metadata": {},
     "execution_count": 87
    }
   ],
   "metadata": {}
  },
  {
   "cell_type": "markdown",
   "source": [
    "## 53.予測"
   ],
   "metadata": {}
  },
  {
   "cell_type": "code",
   "execution_count": 95,
   "source": [
    "pred_train = model.predict(X_train)\r\n",
    "pred_test = model.predict(X_test)"
   ],
   "outputs": [],
   "metadata": {}
  },
  {
   "cell_type": "markdown",
   "source": [
    "## 54.正解率の計測"
   ],
   "metadata": {}
  },
  {
   "cell_type": "code",
   "execution_count": 100,
   "source": [
    "accuracy_train = accuracy_score(df_train[\"CATEGORY\"], pred_train)\r\n",
    "accuracy_test = accuracy_score(df_test[\"CATEGORY\"], pred_test)\r\n",
    "accuracy_train, accuracy_test"
   ],
   "outputs": [
    {
     "output_type": "execute_result",
     "data": {
      "text/plain": [
       "(0.9460269865067467, 0.8710644677661169)"
      ]
     },
     "metadata": {},
     "execution_count": 100
    }
   ],
   "metadata": {}
  },
  {
   "cell_type": "markdown",
   "source": [
    "## 55.混同行列の作成"
   ],
   "metadata": {}
  },
  {
   "cell_type": "code",
   "execution_count": 111,
   "source": [
    "labels = df_train[\"CATEGORY\"].unique()\r\n",
    "labels"
   ],
   "outputs": [
    {
     "output_type": "execute_result",
     "data": {
      "text/plain": [
       "array(['t', 'b', 'e', 'm'], dtype=object)"
      ]
     },
     "metadata": {},
     "execution_count": 111
    }
   ],
   "metadata": {}
  },
  {
   "cell_type": "code",
   "execution_count": 104,
   "source": [
    "confusion_matrix(df_train[\"CATEGORY\"], pred_train)"
   ],
   "outputs": [
    {
     "output_type": "execute_result",
     "data": {
      "text/plain": [
       "array([[4411,   52,    5,   30],\n",
       "       [  18, 4210,    0,    4],\n",
       "       [  80,  125,  510,    4],\n",
       "       [ 148,  108,    2,  965]], dtype=int64)"
      ]
     },
     "metadata": {},
     "execution_count": 104
    }
   ],
   "metadata": {}
  },
  {
   "cell_type": "markdown",
   "source": [
    "## 56.適合率，再現率，F1スコアの計測"
   ],
   "metadata": {}
  },
  {
   "cell_type": "code",
   "execution_count": 112,
   "source": [
    "precision_score(df_test[\"CATEGORY\"], pred_test, average=None, labels=labels)"
   ],
   "outputs": [
    {
     "output_type": "execute_result",
     "data": {
      "text/plain": [
       "array([0.87719298, 0.88927336, 0.84237288, 0.98076923])"
      ]
     },
     "metadata": {},
     "execution_count": 112
    }
   ],
   "metadata": {}
  },
  {
   "cell_type": "code",
   "execution_count": 122,
   "source": [
    "recall_score(df_test[\"CATEGORY\"], pred_test, average=None, labels=labels)"
   ],
   "outputs": [
    {
     "output_type": "execute_result",
     "data": {
      "text/plain": [
       "array([0.57142857, 0.93454545, 0.97642436, 0.51      ])"
      ]
     },
     "metadata": {},
     "execution_count": 122
    }
   ],
   "metadata": {}
  },
  {
   "cell_type": "code",
   "execution_count": 123,
   "source": [
    "f1_score(df_test[\"CATEGORY\"], pred_test, average=None, labels=labels)"
   ],
   "outputs": [
    {
     "output_type": "execute_result",
     "data": {
      "text/plain": [
       "array([0.69204152, 0.91134752, 0.9044586 , 0.67105263])"
      ]
     },
     "metadata": {},
     "execution_count": 123
    }
   ],
   "metadata": {}
  },
  {
   "cell_type": "code",
   "execution_count": 124,
   "source": [
    "df_eval = pd.DataFrame()\r\n",
    "df_eval"
   ],
   "outputs": [],
   "metadata": {}
  },
  {
   "cell_type": "markdown",
   "source": [
    "## 57.特徴量の重みの確認"
   ],
   "metadata": {}
  },
  {
   "cell_type": "code",
   "execution_count": null,
   "source": [],
   "outputs": [],
   "metadata": {}
  },
  {
   "cell_type": "markdown",
   "source": [
    "## 58.正則化パラメータの変更"
   ],
   "metadata": {}
  },
  {
   "cell_type": "code",
   "execution_count": null,
   "source": [],
   "outputs": [],
   "metadata": {}
  },
  {
   "cell_type": "markdown",
   "source": [
    "## 59.ハイパーパラメータの探索Permalink"
   ],
   "metadata": {}
  },
  {
   "cell_type": "code",
   "execution_count": null,
   "source": [],
   "outputs": [],
   "metadata": {}
  }
 ],
 "metadata": {
  "orig_nbformat": 4,
  "language_info": {
   "name": "python",
   "version": "3.8.3",
   "mimetype": "text/x-python",
   "codemirror_mode": {
    "name": "ipython",
    "version": 3
   },
   "pygments_lexer": "ipython3",
   "nbconvert_exporter": "python",
   "file_extension": ".py"
  },
  "kernelspec": {
   "name": "python3",
   "display_name": "Python 3.8.3 64-bit ('base': conda)"
  },
  "interpreter": {
   "hash": "173319109fbdc3b9e6669d3e6b9b4c0d8de214a81d3d8a11fbee43e8362bce4b"
  }
 },
 "nbformat": 4,
 "nbformat_minor": 2
}